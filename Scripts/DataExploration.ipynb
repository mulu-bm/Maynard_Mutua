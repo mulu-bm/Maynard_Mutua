{
 "cells": [
  {
   "cell_type": "markdown",
   "metadata": {},
   "source": [
    "# Reference file for quantification of extreme weather impacts\n",
    "\n",
    "https://www.energy.gov/sites/prod/files/2019/09/f67/Oak%20Ridge%20National%20Laboratory%20EIS%20Response.pdf\n",
    "\n",
    "Explore wildfires, extreme heat (max, median & min), sea-level rise, and flooding.\n",
    "Infrastructure: generation, substations, transmission lines, & EV chargers.\n",
    "Counties and population groups most affected?\n",
    "\n",
    "Identify which infrastructure is impacted?\n",
    "Graph lost capacity for generation plants; derated capacity for transmission lines\n",
    "Evaluate accessibility after flooding using methodology in Puerto Rico paper https://www.researchgate.net/publication/362089738_Geospatial_Assessment_Methodology_to_Estimate_Power_Line_Restoration_Access_Vulnerabilities_After_a_Hurricane_in_Puerto_Rico\n"
   ]
  },
  {
   "cell_type": "markdown",
   "metadata": {},
   "source": [
    "Importing FEMA flood plain data: 100 year, 200 year and 500 year"
   ]
  },
  {
   "cell_type": "code",
   "execution_count": 3,
   "metadata": {},
   "outputs": [],
   "source": [
    "#Importing necessary libraries\n",
    "import pandas as pd\n",
    "#import geopandas as gpd\n",
    "#import geopandas as gpd\n",
    "from arcgis.features import FeatureLayer\n",
    "from arcgis.features import GeoAccessor\n",
    "\n",
    "\n",
    "#Import the Path function\n",
    "from pathlib import Path"
   ]
  },
  {
   "cell_type": "code",
   "execution_count": 4,
   "metadata": {},
   "outputs": [
    {
     "name": "stdout",
     "output_type": "stream",
     "text": [
      "v:\\Maynard_Mutua\n",
      "v:\\Maynard_Mutua\\Scratch\n"
     ]
    }
   ],
   "source": [
    "#Reveal the current working directory\n",
    "root_folder = Path.cwd().parent\n",
    "data_folder = root_folder / 'Data'\n",
    "scratch_folder = root_folder / 'Scratch'\n",
    "scripts_folder = root_folder / 'Scripts'\n",
    "print(root_folder)\n",
    "print(scratch_folder)"
   ]
  },
  {
   "cell_type": "markdown",
   "metadata": {},
   "source": [
    "Note: there are several layers available for the 100 year, 200 year and 500 year flood plains. To add an extra data wrangling step, we import all the available layers and dissolve them in one layer for each category below."
   ]
  },
  {
   "cell_type": "markdown",
   "metadata": {},
   "source": [
    "### Importing and combining 100 year flood plain data"
   ]
  },
  {
   "cell_type": "code",
   "execution_count": 5,
   "metadata": {},
   "outputs": [],
   "source": [
    "#Setting urls for the FEMA feature layers - to change to for loop later\n",
    "\n",
    "#100 year flood layers\n",
    "floodrisk_100_year_FEMA = 'https://gis.water.ca.gov/arcgis/rest/services/Boundaries/BAM/MapServer/5' #FEMA Effective\n",
    "floodrisk_100_year_Regional = 'https://gis.water.ca.gov/arcgis/rest/services/Boundaries/BAM/MapServer/7' #Regional/Special Studies\n",
    "floodrisk_100_year_DWR = 'https://gis.water.ca.gov/arcgis/rest/services/Boundaries/BAM/MapServer/8' #DWR Awareness\n",
    "floodrisk_100_year_USACE = 'https://gis.water.ca.gov/arcgis/rest/services/Boundaries/BAM/MapServer/9' #USACE Comprehensive Study\n",
    "\n",
    "#200 year flood layer\n",
    "floodrisk_200_year_USACE = 'https://gis.water.ca.gov/arcgis/rest/services/Boundaries/BAM/MapServer/11'\n",
    "\n",
    "#500 year flood layers\n",
    "floodrisk_500_year_FEMA = 'https://gis.water.ca.gov/arcgis/rest/services/Boundaries/BAM/MapServer/13' #FEMA Effective\n",
    "floodrisk_500_year_Regional = 'https://gis.water.ca.gov/arcgis/rest/services/Boundaries/BAM/MapServer/15' #Regional/Special Studies\n",
    "floodrisk_500_year_USACE = 'https://gis.water.ca.gov/arcgis/rest/services/Boundaries/BAM/MapServer/16' #USACE Comprehensive Study\n",
    "\n",
    "\n"
   ]
  },
  {
   "cell_type": "code",
   "execution_count": 6,
   "metadata": {},
   "outputs": [],
   "source": [
    "#Read the data in as feature layers\n",
    "floodrisk_100yearlayer1 = FeatureLayer(floodrisk_100_year_FEMA)\n",
    "floodrisk_100yearlayer2 = FeatureLayer(floodrisk_100_year_Regional)\n",
    "floodrisk_100yearlayer3 = FeatureLayer(floodrisk_100_year_DWR)\n",
    "floodrisk_100yearlayer4 = FeatureLayer(floodrisk_100_year_USACE)"
   ]
  },
  {
   "cell_type": "code",
   "execution_count": 7,
   "metadata": {},
   "outputs": [
    {
     "name": "stdout",
     "output_type": "stream",
     "text": [
      "OBJECTID\n",
      "Shape\n",
      "DFIRM_ID\n",
      "VERSION_ID\n",
      "FLD_AR_ID\n",
      "STUDY_TYP\n",
      "FLD_ZONE\n",
      "ZONE_SUBTY\n",
      "SFHA_TF\n",
      "STATIC_BFE\n",
      "V_DATUM\n",
      "DEPTH\n",
      "LEN_UNIT\n",
      "VELOCITY\n",
      "VEL_UNIT\n",
      "AR_REVERT\n",
      "AR_SUBTRV\n",
      "BFE_REVERT\n",
      "DEP_REVERT\n",
      "DUAL_ZONE\n",
      "SOURCE_CIT\n",
      "GFID\n",
      "Shape_Length\n",
      "Shape_Area\n",
      "CO_FIPS\n",
      "County\n",
      "---------------\n",
      "OBJECTID\n",
      "Shape\n",
      "FLOODPLAIN\n",
      "DESCRIPTON\n",
      "ZONE\n",
      "AREA\n",
      "PERIMETER\n",
      "REGULATION\n",
      "SourceName\n",
      "Area_ac\n",
      "Watercours\n",
      "DocName\n",
      "DESCRPTON\n",
      "CLASS\n",
      "Entity\n",
      "Handle\n",
      "Level\n",
      "LvlDesc\n",
      "LyrOn\n",
      "LvlPlot\n",
      "Color\n",
      "Linetype\n",
      "LyrLnType\n",
      "Elevation\n",
      "GGroup\n",
      "Fill\n",
      "LineWt\n",
      "LyrLineWt\n",
      "LTScale\n",
      "DocPath\n",
      "DocType\n",
      "DocVer\n",
      "MsLink_DMR\n",
      "MsCtlg_DMR\n",
      "Regualtion\n",
      "Shape_Length\n",
      "Shape_Area\n",
      "---------------\n",
      "OBJECTID\n",
      "Shape\n",
      "Source\n",
      "Folder\n",
      "Shape_Length\n",
      "Shape_Area\n",
      "---------------\n",
      "OBJECTID_1\n",
      "Shape\n",
      "OBJECTID\n",
      "LAYER\n",
      "COUNT_\n",
      "SUM_ACRES\n",
      "AREA\n",
      "PERIMETER\n",
      "ACRES\n",
      "Shape_Leng\n",
      "Shape_Length\n",
      "Shape_Area\n",
      "---------------\n"
     ]
    }
   ],
   "source": [
    "hundredYearFeatureLayers = [floodrisk_100yearlayer1, floodrisk_100yearlayer2, floodrisk_100yearlayer3, floodrisk_100yearlayer4]\n",
    "\n",
    "for layer in hundredYearFeatureLayers:\n",
    "    for f in layer.properties.fields:\n",
    "        print(f['name'])\n",
    "    print('---------------')"
   ]
  },
  {
   "cell_type": "code",
   "execution_count": 8,
   "metadata": {},
   "outputs": [
    {
     "name": "stdout",
     "output_type": "stream",
     "text": [
      "Start Time: Monday, December 9, 2024 4:08:39 PM\n",
      "Succeeded at Monday, December 9, 2024 4:12:54 PM (Elapsed Time: 4 minutes 14 seconds)\n"
     ]
    }
   ],
   "source": [
    "#Import system modules\n",
    "import arcpy\n",
    "\n",
    "#Set workspace\n",
    "arcpy.env.workspace = str(scratch_folder)\n",
    "arcpy.env.overwriteOutput = True\n",
    "\n",
    "#Add code to merge or dissolve layers into one\n",
    "addSourceInfo = 'ADD_SOURCE_INFO'\n",
    "\n",
    "# Create FieldMappings object to manage merge output fields\n",
    "fieldMappings = arcpy.FieldMappings()\n",
    "\n",
    "# Add all fields from both oldStreets and newStreets\n",
    "fieldMappings.addTable(floodrisk_100_year_FEMA)\n",
    "fieldMappings.addTable(floodrisk_100_year_Regional)\n",
    "fieldMappings.addTable(floodrisk_100_year_DWR)\n",
    "fieldMappings.addTable(floodrisk_100_year_USACE)\n",
    "\n",
    "# Remove all output fields from the field mappings, except fields \n",
    "# 'Shape', 'Shape_Length', & 'Shape_Area'\n",
    "for field in fieldMappings.fields:\n",
    "    if field.name not in ['Shape', 'Shape_Length', 'Shape_Area']:\n",
    "        fieldMappings.removeFieldMap(fieldMappings.findFieldMapIndex(field.name))\n",
    "\n",
    "# Use Merge tool to move features into single dataset\n",
    "combined100YearFlood = str(scratch_folder / 'combined100YearFlood') \n",
    "arcpy.management.Merge([floodrisk_100_year_FEMA, \n",
    "                        floodrisk_100_year_Regional, \n",
    "                        floodrisk_100_year_DWR,\n",
    "                        floodrisk_100_year_USACE],combined100YearFlood, '', addSourceInfo)\n",
    "\n",
    "# Display any messages, warnings or errors\n",
    "print(arcpy.GetMessages())"
   ]
  },
  {
   "cell_type": "code",
   "execution_count": 48,
   "metadata": {},
   "outputs": [
    {
     "data": {
      "text/plain": [
       "[<Field object at 0x2a8c055e990[0x2a8d004b530]>,\n",
       " <Field object at 0x2a8c055d190[0x2a8d0049050]>,\n",
       " <Field object at 0x2a8b7394790[0x2a8d004b650]>,\n",
       " <Field object at 0x2a8c0545610[0x2a8d004b390]>,\n",
       " <Field object at 0x2a8c0545f50[0x2a8d004b350]>,\n",
       " <Field object at 0x2a8c0546ad0[0x2a8d004b250]>]"
      ]
     },
     "execution_count": 48,
     "metadata": {},
     "output_type": "execute_result"
    }
   ],
   "source": [
    "arcpy.ListFields(floodrisk_100_year_DWR)"
   ]
  },
  {
   "cell_type": "markdown",
   "metadata": {},
   "source": [
    "### Importing and combining 200 year flood plain data"
   ]
  },
  {
   "cell_type": "code",
   "execution_count": 4,
   "execution_count": 4,
   "metadata": {},
   "outputs": [
    {
     "data": {
      "text/html": [
       "<div class='gpresult'><h2>Messages</h2><div id='messages'>Start Time: Sunday, December 8, 2024 3:06:00 PM<br>Succeeded at Sunday, December 8, 2024 3:06:02 PM (Elapsed Time: 1.60 seconds)<br></div><div id = 'default' /></div></div>"
      ],
      "text/plain": [
       "<Result 'v:\\\\Maynard_Mutua\\\\Scratch\\\\floodrisk_200_year_USACE.shp'>"
      ]
     },
     "execution_count": 49,
     "metadata": {},
     "output_type": "execute_result"
    }
   ],
   "source": [
    "#Repeat for 200 year flood plain data\n",
    "\n",
    "arcpy.conversion.ExportFeatures(floodrisk_200_year_USACE, str(scratch_folder / 'floodrisk_200_year_USACE'))"
   ]
  },
  {
   "cell_type": "markdown",
   "metadata": {},
   "source": [
    "### Importing and combining 500 year flood plain data"
   ]
  },
  {
   "cell_type": "code",
   "execution_count": 5,
   "execution_count": 5,
   "metadata": {},
   "outputs": [],
   "source": [
    "#Repeat for 500 year flood plain data\n",
    "\n",
    "floodrisk_500_year_url_FEMA = 'https://gis.water.ca.gov/arcgis/rest/services/Boundaries/BAM/MapServer/13' #FEMA Effective\n",
    "floodrisk_500_year_url_Regional = 'https://gis.water.ca.gov/arcgis/rest/services/Boundaries/BAM/MapServer/15' #Regional/Special Studies\n",
    "floodrisk_500_year_url_USACE = 'https://gis.water.ca.gov/arcgis/rest/services/Boundaries/BAM/MapServer/16' #USACE Comprehensive Study\n",
    "\n",
    "floodrisk_500yearlayer1 = FeatureLayer(floodrisk_500_year_url_FEMA)\n",
    "floodrisk_500yearlayer2 = FeatureLayer(floodrisk_500_year_url_Regional)\n",
    "floodrisk_500yearlayer3 = FeatureLayer(floodrisk_500_year_url_USACE)"
    "#Repeat for 500 year flood plain data\n",
    "\n",
    "floodrisk_500_year_url_FEMA = 'https://gis.water.ca.gov/arcgis/rest/services/Boundaries/BAM/MapServer/13' #FEMA Effective\n",
    "floodrisk_500_year_url_Regional = 'https://gis.water.ca.gov/arcgis/rest/services/Boundaries/BAM/MapServer/15' #Regional/Special Studies\n",
    "floodrisk_500_year_url_USACE = 'https://gis.water.ca.gov/arcgis/rest/services/Boundaries/BAM/MapServer/16' #USACE Comprehensive Study\n",
    "\n",
    "floodrisk_500yearlayer1 = FeatureLayer(floodrisk_500_year_url_FEMA)\n",
    "floodrisk_500yearlayer2 = FeatureLayer(floodrisk_500_year_url_Regional)\n",
    "floodrisk_500yearlayer3 = FeatureLayer(floodrisk_500_year_url_USACE)"
   ]
  },
  {
   "cell_type": "markdown",
   "metadata": {},
   "source": [
    "### Convert to spatial dataframes and wrangle data"
   ]
  },
  {
   "cell_type": "code",
   "execution_count": 42,
   "metadata": {},
   "outputs": [],
   "source": [
    "#Convert layers to spatial dataframes\n",
    "sdf_floodrisk_100year = GeoAccessor.from_layer(floodrisk_100yearlayer1)\n",
    "#sdf_floodrisk_200year = GeoAccessor.from_layer(floodrisk_200yearlayer)\n",
    "#sdf_floodrisk_500year = GeoAccessor.from_layer(floodrisk_500yearlayer)"
   ]
  },
  {
   "cell_type": "code",
   "execution_count": 44,
   "metadata": {},
   "outputs": [
    {
     "data": {
      "text/plain": [
       "Index(['OBJECTID', 'DFIRM_ID', 'VERSION_ID', 'FLD_AR_ID', 'STUDY_TYP',\n",
       "       'FLD_ZONE', 'ZONE_SUBTY', 'SFHA_TF', 'STATIC_BFE', 'V_DATUM', 'DEPTH',\n",
       "       'LEN_UNIT', 'VELOCITY', 'VEL_UNIT', 'AR_REVERT', 'AR_SUBTRV',\n",
       "       'BFE_REVERT', 'DEP_REVERT', 'DUAL_ZONE', 'SOURCE_CIT', 'GFID',\n",
       "       'Shape_Length', 'Shape_Area', 'CO_FIPS', 'County', 'SHAPE'],\n",
       "      dtype='object')"
      ]
     },
     "execution_count": 44,
     "metadata": {},
     "output_type": "execute_result"
    }
   ],
   "source": [
    "sdf_floodrisk_100year.columns"
   ]
  },
  {
   "cell_type": "code",
   "execution_count": 45,
   "metadata": {},
   "outputs": [
    {
     "data": {
      "text/html": [
       "<div>\n",
       "<style scoped>\n",
       "    .dataframe tbody tr th:only-of-type {\n",
       "        vertical-align: middle;\n",
       "    }\n",
       "\n",
       "    .dataframe tbody tr th {\n",
       "        vertical-align: top;\n",
       "    }\n",
       "\n",
       "    .dataframe thead th {\n",
       "        text-align: right;\n",
       "    }\n",
       "</style>\n",
       "<table border=\"1\" class=\"dataframe\">\n",
       "  <thead>\n",
       "    <tr style=\"text-align: right;\">\n",
       "      <th></th>\n",
       "      <th>OBJECTID</th>\n",
       "      <th>DFIRM_ID</th>\n",
       "      <th>VERSION_ID</th>\n",
       "      <th>FLD_AR_ID</th>\n",
       "      <th>STUDY_TYP</th>\n",
       "      <th>FLD_ZONE</th>\n",
       "      <th>ZONE_SUBTY</th>\n",
       "      <th>SFHA_TF</th>\n",
       "      <th>STATIC_BFE</th>\n",
       "      <th>V_DATUM</th>\n",
       "      <th>...</th>\n",
       "      <th>BFE_REVERT</th>\n",
       "      <th>DEP_REVERT</th>\n",
       "      <th>DUAL_ZONE</th>\n",
       "      <th>SOURCE_CIT</th>\n",
       "      <th>GFID</th>\n",
       "      <th>Shape_Length</th>\n",
       "      <th>Shape_Area</th>\n",
       "      <th>CO_FIPS</th>\n",
       "      <th>County</th>\n",
       "      <th>SHAPE</th>\n",
       "    </tr>\n",
       "  </thead>\n",
       "  <tbody>\n",
       "    <tr>\n",
       "      <th>0</th>\n",
       "      <td>1</td>\n",
       "      <td>06087C</td>\n",
       "      <td>1.1.1.0</td>\n",
       "      <td>06087C_6</td>\n",
       "      <td>NP</td>\n",
       "      <td>A</td>\n",
       "      <td>&lt;NA&gt;</td>\n",
       "      <td>T</td>\n",
       "      <td>-9999.0</td>\n",
       "      <td>&lt;NA&gt;</td>\n",
       "      <td>...</td>\n",
       "      <td>-9999.0</td>\n",
       "      <td>-9999.0</td>\n",
       "      <td>&lt;NA&gt;</td>\n",
       "      <td>06087C_STUDY1</td>\n",
       "      <td>5c32f5e6-e407-499e-9aac-21070df175a9</td>\n",
       "      <td>2480.178083</td>\n",
       "      <td>40344.798174</td>\n",
       "      <td>087</td>\n",
       "      <td>Santa Cruz</td>\n",
       "      <td>{\"rings\": [[[-189089.44590000063, -93566.90960...</td>\n",
       "    </tr>\n",
       "    <tr>\n",
       "      <th>1</th>\n",
       "      <td>2</td>\n",
       "      <td>06087C</td>\n",
       "      <td>1.1.1.0</td>\n",
       "      <td>06087C_12</td>\n",
       "      <td>NP</td>\n",
       "      <td>A</td>\n",
       "      <td>&lt;NA&gt;</td>\n",
       "      <td>T</td>\n",
       "      <td>-9999.0</td>\n",
       "      <td>&lt;NA&gt;</td>\n",
       "      <td>...</td>\n",
       "      <td>-9999.0</td>\n",
       "      <td>-9999.0</td>\n",
       "      <td>&lt;NA&gt;</td>\n",
       "      <td>06087C_STUDY1</td>\n",
       "      <td>5c32f5e6-e407-499e-9aac-21070df175a9</td>\n",
       "      <td>724.180157</td>\n",
       "      <td>24847.320406</td>\n",
       "      <td>087</td>\n",
       "      <td>Santa Cruz</td>\n",
       "      <td>{\"rings\": [[[-160979.05110000074, -115433.7480...</td>\n",
       "    </tr>\n",
       "    <tr>\n",
       "      <th>2</th>\n",
       "      <td>3</td>\n",
       "      <td>06087C</td>\n",
       "      <td>1.1.1.0</td>\n",
       "      <td>06087C_14</td>\n",
       "      <td>NP</td>\n",
       "      <td>A</td>\n",
       "      <td>&lt;NA&gt;</td>\n",
       "      <td>T</td>\n",
       "      <td>-9999.0</td>\n",
       "      <td>&lt;NA&gt;</td>\n",
       "      <td>...</td>\n",
       "      <td>-9999.0</td>\n",
       "      <td>-9999.0</td>\n",
       "      <td>&lt;NA&gt;</td>\n",
       "      <td>06087C_STUDY1</td>\n",
       "      <td>5c32f5e6-e407-499e-9aac-21070df175a9</td>\n",
       "      <td>1407.449224</td>\n",
       "      <td>137581.273971</td>\n",
       "      <td>087</td>\n",
       "      <td>Santa Cruz</td>\n",
       "      <td>{\"rings\": [[[-143286.5594999995, -122125.10710...</td>\n",
       "    </tr>\n",
       "    <tr>\n",
       "      <th>3</th>\n",
       "      <td>4</td>\n",
       "      <td>06087C</td>\n",
       "      <td>1.1.1.0</td>\n",
       "      <td>06087C_21</td>\n",
       "      <td>NP</td>\n",
       "      <td>A</td>\n",
       "      <td>&lt;NA&gt;</td>\n",
       "      <td>T</td>\n",
       "      <td>-9999.0</td>\n",
       "      <td>&lt;NA&gt;</td>\n",
       "      <td>...</td>\n",
       "      <td>-9999.0</td>\n",
       "      <td>-9999.0</td>\n",
       "      <td>&lt;NA&gt;</td>\n",
       "      <td>06087C_STUDY1</td>\n",
       "      <td>5c32f5e6-e407-499e-9aac-21070df175a9</td>\n",
       "      <td>15655.534418</td>\n",
       "      <td>902558.705077</td>\n",
       "      <td>087</td>\n",
       "      <td>Santa Cruz</td>\n",
       "      <td>{\"rings\": [[[-182445.5996000003, -96833.979199...</td>\n",
       "    </tr>\n",
       "    <tr>\n",
       "      <th>4</th>\n",
       "      <td>5</td>\n",
       "      <td>06087C</td>\n",
       "      <td>1.1.1.0</td>\n",
       "      <td>06087C_62</td>\n",
       "      <td>NP</td>\n",
       "      <td>A</td>\n",
       "      <td>&lt;NA&gt;</td>\n",
       "      <td>T</td>\n",
       "      <td>-9999.0</td>\n",
       "      <td>&lt;NA&gt;</td>\n",
       "      <td>...</td>\n",
       "      <td>-9999.0</td>\n",
       "      <td>-9999.0</td>\n",
       "      <td>&lt;NA&gt;</td>\n",
       "      <td>06087C_STUDY1</td>\n",
       "      <td>5c32f5e6-e407-499e-9aac-21070df175a9</td>\n",
       "      <td>1057.795507</td>\n",
       "      <td>19269.758301</td>\n",
       "      <td>087</td>\n",
       "      <td>Santa Cruz</td>\n",
       "      <td>{\"rings\": [[[-177217.72959999926, -114214.1187...</td>\n",
       "    </tr>\n",
       "  </tbody>\n",
       "</table>\n",
       "<p>5 rows × 26 columns</p>\n",
       "</div>"
      ],
      "text/plain": [
       "   OBJECTID DFIRM_ID VERSION_ID  FLD_AR_ID STUDY_TYP FLD_ZONE ZONE_SUBTY  \\\n",
       "0         1   06087C    1.1.1.0   06087C_6        NP        A       <NA>   \n",
       "1         2   06087C    1.1.1.0  06087C_12        NP        A       <NA>   \n",
       "2         3   06087C    1.1.1.0  06087C_14        NP        A       <NA>   \n",
       "3         4   06087C    1.1.1.0  06087C_21        NP        A       <NA>   \n",
       "4         5   06087C    1.1.1.0  06087C_62        NP        A       <NA>   \n",
       "\n",
       "  SFHA_TF  STATIC_BFE V_DATUM  ...  BFE_REVERT DEP_REVERT  DUAL_ZONE  \\\n",
       "0       T     -9999.0    <NA>  ...     -9999.0    -9999.0       <NA>   \n",
       "1       T     -9999.0    <NA>  ...     -9999.0    -9999.0       <NA>   \n",
       "2       T     -9999.0    <NA>  ...     -9999.0    -9999.0       <NA>   \n",
       "3       T     -9999.0    <NA>  ...     -9999.0    -9999.0       <NA>   \n",
       "4       T     -9999.0    <NA>  ...     -9999.0    -9999.0       <NA>   \n",
       "\n",
       "      SOURCE_CIT                                  GFID  Shape_Length  \\\n",
       "0  06087C_STUDY1  5c32f5e6-e407-499e-9aac-21070df175a9   2480.178083   \n",
       "1  06087C_STUDY1  5c32f5e6-e407-499e-9aac-21070df175a9    724.180157   \n",
       "2  06087C_STUDY1  5c32f5e6-e407-499e-9aac-21070df175a9   1407.449224   \n",
       "3  06087C_STUDY1  5c32f5e6-e407-499e-9aac-21070df175a9  15655.534418   \n",
       "4  06087C_STUDY1  5c32f5e6-e407-499e-9aac-21070df175a9   1057.795507   \n",
       "\n",
       "      Shape_Area  CO_FIPS      County  \\\n",
       "0   40344.798174      087  Santa Cruz   \n",
       "1   24847.320406      087  Santa Cruz   \n",
       "2  137581.273971      087  Santa Cruz   \n",
       "3  902558.705077      087  Santa Cruz   \n",
       "4   19269.758301      087  Santa Cruz   \n",
       "\n",
       "                                               SHAPE  \n",
       "0  {\"rings\": [[[-189089.44590000063, -93566.90960...  \n",
       "1  {\"rings\": [[[-160979.05110000074, -115433.7480...  \n",
       "2  {\"rings\": [[[-143286.5594999995, -122125.10710...  \n",
       "3  {\"rings\": [[[-182445.5996000003, -96833.979199...  \n",
       "4  {\"rings\": [[[-177217.72959999926, -114214.1187...  \n",
       "\n",
       "[5 rows x 26 columns]"
      ]
     },
     "execution_count": 45,
     "metadata": {},
     "output_type": "execute_result"
    }
   ],
   "source": [
    "sdf_floodrisk_100year.head()"
   ]
  },
  {
   "cell_type": "markdown",
   "metadata": {},
   "source": [
    "### Import county and roads shapefiles: could potentially enrich data to apply data engineering principles"
   ]
  },
  {
   "cell_type": "code",
   "execution_count": 6,
   "metadata": {},
   "outputs": [],
   "source": [
    "#Code to import boundary and roads data\n",
    "primary_roads_url = 'https://tigerweb.geo.census.gov/arcgis/rest/services/TIGERweb/Transportation/MapServer/2'\n",
    "primary_roads_layer = FeatureLayer(primary_roads_url)\n",
    "\n",
    "secondary_roads_url = 'https://tigerweb.geo.census.gov/arcgis/rest/services/TIGERweb/Transportation/MapServer/3'\n",
    "secondary_roads_layer = FeatureLayer(secondary_roads_url)\n",
    "\n",
    "local_roads_url = 'https://tigerweb.geo.census.gov/arcgis/rest/services/TIGERweb/Transportation/MapServer/8'\n",
    "local_roads_layer = FeatureLayer(local_roads_url)"
   ]
  },
  {
   "cell_type": "code",
   "execution_count": 34,
   "metadata": {},
   "outputs": [],
   "source": [
    "server_url = 'https://tigerweb.geo.census.gov/arcgis/rest/services/TIGERweb/Transportation/MapServer/'\n",
    "tigerweb_map_service = gis.content.search(server_url)[0]\n",
    "primary_roads_layer = tigerweb_map_service.layers[2] \n",
    "primary_roads_sdf = GeoAccessor.from_layer(primary_roads_layer)\n"
   ]
  },
  {
   "cell_type": "code",
   "execution_count": 35,
   "metadata": {},
   "outputs": [],
   "source": [
    "secondary_roads_layer = tigerweb_map_service.layers[3] \n",
    "secondary_roads_sdf = GeoAccessor.from_layer(secondary_roads_layer)"
   ]
  },
  {
   "cell_type": "code",
   "execution_count": null,
   "metadata": {},
   "outputs": [],
   "source": [
    "local_roads_layer = tigerweb_map_service.layers[8] \n",
    "local_roads_sdf = GeoAccessor.from_layer(local_roads_layer)"
   ]
  },
  {
   "cell_type": "markdown",
   "metadata": {},
   "source": [
    "### Import electrical infrastructure data: transmission lines, substations, power plants and EV charging stations"
   ]
  },
  {
   "cell_type": "code",
   "execution_count": 18,
   "metadata": {},
   "outputs": [],
   "source": [
    "#Code to import electrical infrastructure\n",
    "transmission_url = 'https://services3.arcgis.com/bWPjFyq029ChCGur/arcgis/rest/services/Transmission_Line/FeatureServer/2'\n",
    "transmission_layer = FeatureLayer(transmission_url)\n",
    "transmission_sdf = GeoAccessor.from_layer(transmission_layer)"
   ]
  },
  {
   "cell_type": "code",
   "execution_count": 19,
   "metadata": {},
   "outputs": [],
   "source": [
    "powerplants_url = 'https://services3.arcgis.com/bWPjFyq029ChCGur/arcgis/rest/services/Power_Plant/FeatureServer/0'\n",
    "powerplants_layer = FeatureLayer(powerplants_url)\n",
    "powerplants_sdf = GeoAccessor.from_layer(powerplants_layer)"
   ]
  },
  {
   "cell_type": "code",
   "execution_count": 20,
   "execution_count": 18,
   "metadata": {},
   "outputs": [],
   "source": [
    "#Code to import electrical infrastructure\n",
    "transmission_url = 'https://services3.arcgis.com/bWPjFyq029ChCGur/arcgis/rest/services/Transmission_Line/FeatureServer/2'\n",
    "transmission_layer = FeatureLayer(transmission_url)\n",
    "transmission_sdf = GeoAccessor.from_layer(transmission_layer)"
   ]
  },
  {
   "cell_type": "code",
   "execution_count": 19,
   "metadata": {},
   "outputs": [],
   "source": [
    "powerplants_url = 'https://services3.arcgis.com/bWPjFyq029ChCGur/arcgis/rest/services/Power_Plant/FeatureServer/0'\n",
    "powerplants_layer = FeatureLayer(powerplants_url)\n",
    "powerplants_sdf = GeoAccessor.from_layer(powerplants_layer)"
   ]
  },
  {
   "cell_type": "code",
   "execution_count": 20,
   "metadata": {},
   "outputs": [],
   "source": [
    "solar_footprints_url = 'https://services3.arcgis.com/bWPjFyq029ChCGur/arcgis/rest/services/Solar_Footprints_V2/FeatureServer/0'\n",
    "solar_footprints_layer = FeatureLayer(solar_footprints_url)\n",
    "solar_footprints_sdf = GeoAccessor.from_layer(solar_footprints_layer)"
   ]
  },
  {
   "cell_type": "markdown",
   "metadata": {},
   "source": [
    "### Import CalAdapt data by year - Allow user to specify and specific year and import the relevant shapefile in the time series"
   ]
  },
  {
   "cell_type": "markdown",
   "metadata": {},
   "source": [
    "User inputs:\n",
    "\n",
    "Flood data - 100 year / 200 year / 500 year\n",
    "Sea level rise - flood scenario: max/med/min - Brian\n",
    "Wildfire - get the raster file for a specific year based on user input of scenario and model (decide whether to fix model later) - Justin\n",
    "Extreme heat - look into how to import and join - Brian\n"
   ]
  },
  {
   "cell_type": "code",
   "execution_count": null,
   "metadata": {},
   "outputs": [],
   "source": [
    "#Code to import wildfire, sea level rise and extreme heat data"
   ]
  },
  {
   "cell_type": "markdown",
   "metadata": {},
   "source": [
    "### Find out which assets are affected by extreme weather events\n",
    "\n",
    "We could find the intersection and create a dataframe with a column for derating and put these in a dashboard showing number of assets affected and severity."
   ]
  },
  {
   "cell_type": "markdown",
   "metadata": {},
   "source": [
    "### Find out which transmission lines and EV chargers might be inaccessible/offline following applicable extreme weather events\n",
    "\n",
    "We could apply the same approach as the Puerto Rico paper and do a special analysis for EV chargers to show how distance to an working charger might be impacted across the different counties."
   ]
  },
  {
   "cell_type": "markdown",
   "metadata": {},
   "source": [
    "### Export shapefiles to be visualized in dashboard"
   ]
  }
 ],
 "metadata": {
  "kernelspec": {
   "display_name": "Python 3 (ipykernel)",
   "language": "python",
   "name": "python3"
  },
  "language_info": {
   "codemirror_mode": {
    "name": "ipython",
    "version": 3
   },
   "file_extension": ".py",
   "mimetype": "text/x-python",
   "name": "python",
   "nbconvert_exporter": "python",
   "pygments_lexer": "ipython3",
   "version": "3.11.8"
  }
 },
 "nbformat": 4,
 "nbformat_minor": 2
}
