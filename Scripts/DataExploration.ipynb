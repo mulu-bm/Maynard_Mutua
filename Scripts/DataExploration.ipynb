{
 "cells": [
  {
   "cell_type": "markdown",
   "metadata": {},
   "source": [
    "# Reference file for quantification of extreme weather impacts\n",
    "\n",
    "https://www.energy.gov/sites/prod/files/2019/09/f67/Oak%20Ridge%20National%20Laboratory%20EIS%20Response.pdf\n",
    "\n",
    "Explore wildfires, extreme heat (max, median & min), sea-level rise, and flooding.\n",
    "Infrastructure: generation, substations, transmission lines, & EV chargers.\n",
    "Counties and population groups most affected?\n",
    "\n",
    "Identify which infrastructure is impacted?\n",
    "Graph lost capacity for generation plants; derated capacity for transmission lines\n",
    "Evaluate accessibility after flooding using methodology in Puerto Rico paper https://www.researchgate.net/publication/362089738_Geospatial_Assessment_Methodology_to_Estimate_Power_Line_Restoration_Access_Vulnerabilities_After_a_Hurricane_in_Puerto_Rico\n"
   ]
  },
  {
   "cell_type": "markdown",
   "metadata": {},
   "source": [
    "Importing FEMA flood plain data: 100 year, 200 year and 500 year"
   ]
  },
  {
   "cell_type": "code",
   "execution_count": 194,
   "metadata": {},
   "outputs": [],
   "source": [
    "#Importing necessary libraries\n",
    "import pandas as pd\n",
    "import numpy as np\n",
    "#import geopandas as gpd\n",
    "#import geopandas as gpd\n",
    "from arcgis.features import FeatureLayer\n",
    "from arcgis.features import GeoAccessor\n",
    "\n",
    "\n",
    "#Import the Path function\n",
    "from pathlib import Path"
   ]
  },
  {
   "cell_type": "code",
   "execution_count": 195,
   "metadata": {},
   "outputs": [
    {
     "name": "stdout",
     "output_type": "stream",
     "text": [
      "v:\\Maynard_Mutua\n",
      "v:\\Maynard_Mutua\\Scratch\n"
     ]
    }
   ],
   "source": [
    "#Reveal the current working directory\n",
    "root_folder = Path.cwd().parent\n",
    "data_folder = root_folder / 'Data'\n",
    "scratch_folder = root_folder / 'Scratch'\n",
    "scripts_folder = root_folder / 'Scripts'\n",
    "print(root_folder)\n",
    "print(scratch_folder)"
   ]
  },
  {
   "cell_type": "markdown",
   "metadata": {},
   "source": [
    "Note: there are several layers available for the 100 year, 200 year and 500 year flood plains. To add an extra data wrangling step, we import all the available layers and dissolve them in one layer for each category below."
   ]
  },
  {
   "cell_type": "markdown",
   "metadata": {},
   "source": [
    "### Importing and combining 100 year flood plain data"
   ]
  },
  {
   "cell_type": "code",
   "execution_count": 3,
   "metadata": {},
   "outputs": [],
   "source": [
    "#Setting urls for the FEMA feature layers - to change to for loop later\n",
    "\n",
    "#100 year flood layers\n",
    "floodrisk_100_year_FEMA = 'https://gis.water.ca.gov/arcgis/rest/services/Boundaries/BAM/MapServer/5' #FEMA Effective\n",
    "floodrisk_100_year_Regional = 'https://gis.water.ca.gov/arcgis/rest/services/Boundaries/BAM/MapServer/7' #Regional/Special Studies\n",
    "floodrisk_100_year_DWR = 'https://gis.water.ca.gov/arcgis/rest/services/Boundaries/BAM/MapServer/8' #DWR Awareness\n",
    "floodrisk_100_year_USACE = 'https://gis.water.ca.gov/arcgis/rest/services/Boundaries/BAM/MapServer/9' #USACE Comprehensive Study\n",
    "\n",
    "#200 year flood layer\n",
    "floodrisk_200_year_USACE = 'https://gis.water.ca.gov/arcgis/rest/services/Boundaries/BAM/MapServer/11'\n",
    "\n",
    "#500 year flood layers\n",
    "floodrisk_500_year_FEMA = 'https://gis.water.ca.gov/arcgis/rest/services/Boundaries/BAM/MapServer/13' #FEMA Effective\n",
    "floodrisk_500_year_Regional = 'https://gis.water.ca.gov/arcgis/rest/services/Boundaries/BAM/MapServer/15' #Regional/Special Studies\n",
    "floodrisk_500_year_USACE = 'https://gis.water.ca.gov/arcgis/rest/services/Boundaries/BAM/MapServer/16' #USACE Comprehensive Study\n",
    "\n",
    "\n"
   ]
  },
  {
   "cell_type": "code",
   "execution_count": 4,
   "metadata": {},
   "outputs": [],
   "source": [
    "#Read the data in as feature layers\n",
    "floodrisk_100yearlayer1 = FeatureLayer(floodrisk_100_year_FEMA)\n",
    "floodrisk_100yearlayer2 = FeatureLayer(floodrisk_100_year_Regional)\n",
    "floodrisk_100yearlayer3 = FeatureLayer(floodrisk_100_year_DWR)\n",
    "floodrisk_100yearlayer4 = FeatureLayer(floodrisk_100_year_USACE)"
   ]
  },
  {
   "cell_type": "code",
   "execution_count": 5,
   "metadata": {},
   "outputs": [
    {
     "name": "stdout",
     "output_type": "stream",
     "text": [
      "OBJECTID\n",
      "Shape\n",
      "DFIRM_ID\n",
      "VERSION_ID\n",
      "FLD_AR_ID\n",
      "STUDY_TYP\n",
      "FLD_ZONE\n",
      "ZONE_SUBTY\n",
      "SFHA_TF\n",
      "STATIC_BFE\n",
      "V_DATUM\n",
      "DEPTH\n",
      "LEN_UNIT\n",
      "VELOCITY\n",
      "VEL_UNIT\n",
      "AR_REVERT\n",
      "AR_SUBTRV\n",
      "BFE_REVERT\n",
      "DEP_REVERT\n",
      "DUAL_ZONE\n",
      "SOURCE_CIT\n",
      "GFID\n",
      "Shape_Length\n",
      "Shape_Area\n",
      "CO_FIPS\n",
      "County\n",
      "---------------\n",
      "OBJECTID\n",
      "Shape\n",
      "FLOODPLAIN\n",
      "DESCRIPTON\n",
      "ZONE\n",
      "AREA\n",
      "PERIMETER\n",
      "REGULATION\n",
      "SourceName\n",
      "Area_ac\n",
      "Watercours\n",
      "DocName\n",
      "DESCRPTON\n",
      "CLASS\n",
      "Entity\n",
      "Handle\n",
      "Level\n",
      "LvlDesc\n",
      "LyrOn\n",
      "LvlPlot\n",
      "Color\n",
      "Linetype\n",
      "LyrLnType\n",
      "Elevation\n",
      "GGroup\n",
      "Fill\n",
      "LineWt\n",
      "LyrLineWt\n",
      "LTScale\n",
      "DocPath\n",
      "DocType\n",
      "DocVer\n",
      "MsLink_DMR\n",
      "MsCtlg_DMR\n",
      "Regualtion\n",
      "Shape_Length\n",
      "Shape_Area\n",
      "---------------\n",
      "OBJECTID\n",
      "Shape\n",
      "Source\n",
      "Folder\n",
      "Shape_Length\n",
      "Shape_Area\n",
      "---------------\n",
      "OBJECTID_1\n",
      "Shape\n",
      "OBJECTID\n",
      "LAYER\n",
      "COUNT_\n",
      "SUM_ACRES\n",
      "AREA\n",
      "PERIMETER\n",
      "ACRES\n",
      "Shape_Leng\n",
      "Shape_Length\n",
      "Shape_Area\n",
      "---------------\n"
     ]
    }
   ],
   "source": [
    "hundredYearFeatureLayers = [floodrisk_100yearlayer1, floodrisk_100yearlayer2, floodrisk_100yearlayer3, floodrisk_100yearlayer4]\n",
    "\n",
    "for layer in hundredYearFeatureLayers:\n",
    "    for f in layer.properties.fields:\n",
    "        print(f['name'])\n",
    "    print('---------------')"
   ]
  },
  {
   "cell_type": "code",
   "execution_count": 7,
   "metadata": {},
   "outputs": [
    {
     "name": "stdout",
     "output_type": "stream",
     "text": [
      "Start Time: Monday, December 9, 2024 7:54:34 PM\n",
      "Succeeded at Monday, December 9, 2024 7:58:41 PM (Elapsed Time: 4 minutes 6 seconds)\n"
     ]
    }
   ],
   "source": [
    "#Import system modules\n",
    "import arcpy\n",
    "\n",
    "#Set workspace\n",
    "arcpy.env.workspace = str(scratch_folder)\n",
    "arcpy.env.overwriteOutput = True\n",
    "\n",
    "#Add code to merge or dissolve layers into one\n",
    "addSourceInfo = 'ADD_SOURCE_INFO'\n",
    "\n",
    "# Create FieldMappings object to manage merge output fields\n",
    "fieldMappings = arcpy.FieldMappings()\n",
    "\n",
    "# Add all fields from both oldStreets and newStreets\n",
    "fieldMappings.addTable(floodrisk_100_year_FEMA)\n",
    "fieldMappings.addTable(floodrisk_100_year_Regional)\n",
    "fieldMappings.addTable(floodrisk_100_year_DWR)\n",
    "fieldMappings.addTable(floodrisk_100_year_USACE)\n",
    "\n",
    "# Remove all output fields from the field mappings, except fields \n",
    "# 'Shape', 'Shape_Length', & 'Shape_Area'\n",
    "for field in fieldMappings.fields:\n",
    "    if field.name not in ['Shape', 'Shape_Length', 'Shape_Area']:\n",
    "        fieldMappings.removeFieldMap(fieldMappings.findFieldMapIndex(field.name))\n",
    "\n",
    "# Use Merge tool to move features into single dataset\n",
    "combined100YearFlood = str(scratch_folder / 'combined100YearFlood') \n",
    "arcpy.management.Merge([floodrisk_100_year_FEMA, \n",
    "                        floodrisk_100_year_Regional, \n",
    "                        floodrisk_100_year_DWR,\n",
    "                        floodrisk_100_year_USACE],combined100YearFlood, '', addSourceInfo)\n",
    "\n",
    "# Display any messages, warnings or errors\n",
    "print(arcpy.GetMessages())"
   ]
  },
  {
   "cell_type": "code",
   "execution_count": 8,
   "metadata": {},
   "outputs": [
    {
     "data": {
      "text/plain": [
       "[<Field object at 0x2c89d89e790[0x2c88dc22270]>,\n",
       " <Field object at 0x2c89d89e8d0[0x2c88dc20b70]>,\n",
       " <Field object at 0x2c89d89e810[0x2c88dc22590]>,\n",
       " <Field object at 0x2c88dc53e10[0x2c88dc225b0]>,\n",
       " <Field object at 0x2c88dc53cd0[0x2c88dc225d0]>,\n",
       " <Field object at 0x2c88dc508d0[0x2c88dc21610]>]"
      ]
     },
     "execution_count": 8,
     "metadata": {},
     "output_type": "execute_result"
    }
   ],
   "source": [
    "arcpy.ListFields(floodrisk_100_year_DWR)"
   ]
  },
  {
   "cell_type": "markdown",
   "metadata": {},
   "source": [
    "### Importing and combining 200 year flood plain data"
   ]
  },
  {
   "cell_type": "code",
   "execution_count": 9,
   "metadata": {},
   "outputs": [
    {
     "data": {
      "text/html": [
       "<div class='gpresult'><h2>Messages</h2><div id='messages'>Start Time: Monday, December 9, 2024 7:59:05 PM<br>Succeeded at Monday, December 9, 2024 7:59:07 PM (Elapsed Time: 1.57 seconds)<br></div><div id = 'default' /></div></div>"
      ],
      "text/plain": [
       "<Result 'v:\\\\Maynard_Mutua\\\\Scratch\\\\floodrisk_200_year_USACE.shp'>"
      ]
     },
     "execution_count": 9,
     "metadata": {},
     "output_type": "execute_result"
    }
   ],
   "source": [
    "#Repeat for 200 year flood plain data\n",
    "\n",
    "arcpy.conversion.ExportFeatures(floodrisk_200_year_USACE, str(scratch_folder / 'floodrisk_200_year_USACE'))"
   ]
  },
  {
   "cell_type": "markdown",
   "metadata": {},
   "source": [
    "### Importing and combining 500 year flood plain data"
   ]
  },
  {
   "cell_type": "code",
   "execution_count": 10,
   "metadata": {},
   "outputs": [
    {
     "name": "stdout",
     "output_type": "stream",
     "text": [
      "Start Time: Monday, December 9, 2024 7:59:37 PM\n",
      "Succeeded at Monday, December 9, 2024 8:01:37 PM (Elapsed Time: 2 minutes 0 seconds)\n"
     ]
    }
   ],
   "source": [
    "#Repeat for 500 year flood plain data\n",
    "\n",
    "floodrisk_500_year_FEMA = 'https://gis.water.ca.gov/arcgis/rest/services/Boundaries/BAM/MapServer/13' #FEMA Effective\n",
    "floodrisk_500_year_Regional = 'https://gis.water.ca.gov/arcgis/rest/services/Boundaries/BAM/MapServer/15' #Regional/Special Studies\n",
    "floodrisk_500_year_USACE = 'https://gis.water.ca.gov/arcgis/rest/services/Boundaries/BAM/MapServer/16' #USACE Comprehensive Study\n",
    "\n",
    "floodrisk_500yearlayer1 = FeatureLayer(floodrisk_500_year_FEMA)\n",
    "floodrisk_500yearlayer2 = FeatureLayer(floodrisk_500_year_Regional)\n",
    "floodrisk_500yearlayer3 = FeatureLayer(floodrisk_500_year_USACE)\n",
    "\n",
    "# Create FieldMappings object to manage merge output fields\n",
    "fieldMappings = arcpy.FieldMappings()\n",
    "\n",
    "# Add all fields from both oldStreets and newStreets\n",
    "fieldMappings.addTable(floodrisk_500_year_FEMA)\n",
    "fieldMappings.addTable(floodrisk_500_year_Regional)\n",
    "fieldMappings.addTable(floodrisk_500_year_USACE)\n",
    "\n",
    "# Remove all output fields from the field mappings, except fields \n",
    "# 'Shape', 'Shape_Length', & 'Shape_Area'\n",
    "for field in fieldMappings.fields:\n",
    "    if field.name not in ['Shape', 'Shape_Length', 'Shape_Area']:\n",
    "        fieldMappings.removeFieldMap(fieldMappings.findFieldMapIndex(field.name))\n",
    "\n",
    "# Use Merge tool to move features into single dataset\n",
    "combined500YearFlood = str(scratch_folder / 'combined500YearFlood') \n",
    "arcpy.management.Merge([floodrisk_500_year_FEMA, \n",
    "                        floodrisk_500_year_Regional,\n",
    "                        floodrisk_500_year_USACE],combined500YearFlood, '', addSourceInfo)\n",
    "\n",
    "# Display any messages, warnings or errors\n",
    "print(arcpy.GetMessages())"
   ]
  },
  {
   "cell_type": "markdown",
   "metadata": {},
   "source": [
    "### Convert to spatial dataframes and wrangle data"
   ]
  },
  {
   "cell_type": "code",
   "execution_count": 42,
   "metadata": {},
   "outputs": [],
   "source": [
    "#Convert layers to spatial dataframes\n",
    "sdf_floodrisk_100year = GeoAccessor.from_layer(floodrisk_100yearlayer1)\n",
    "#sdf_floodrisk_200year = GeoAccessor.from_layer(floodrisk_200yearlayer)\n",
    "#sdf_floodrisk_500year = GeoAccessor.from_layer(floodrisk_500yearlayer)"
   ]
  },
  {
   "cell_type": "code",
   "execution_count": 44,
   "metadata": {},
   "outputs": [
    {
     "data": {
      "text/plain": [
       "Index(['OBJECTID', 'DFIRM_ID', 'VERSION_ID', 'FLD_AR_ID', 'STUDY_TYP',\n",
       "       'FLD_ZONE', 'ZONE_SUBTY', 'SFHA_TF', 'STATIC_BFE', 'V_DATUM', 'DEPTH',\n",
       "       'LEN_UNIT', 'VELOCITY', 'VEL_UNIT', 'AR_REVERT', 'AR_SUBTRV',\n",
       "       'BFE_REVERT', 'DEP_REVERT', 'DUAL_ZONE', 'SOURCE_CIT', 'GFID',\n",
       "       'Shape_Length', 'Shape_Area', 'CO_FIPS', 'County', 'SHAPE'],\n",
       "      dtype='object')"
      ]
     },
     "execution_count": 44,
     "metadata": {},
     "output_type": "execute_result"
    }
   ],
   "source": [
    "sdf_floodrisk_100year.columns"
   ]
  },
  {
   "cell_type": "code",
   "execution_count": 45,
   "metadata": {},
   "outputs": [
    {
     "data": {
      "text/html": [
       "<div>\n",
       "<style scoped>\n",
       "    .dataframe tbody tr th:only-of-type {\n",
       "        vertical-align: middle;\n",
       "    }\n",
       "\n",
       "    .dataframe tbody tr th {\n",
       "        vertical-align: top;\n",
       "    }\n",
       "\n",
       "    .dataframe thead th {\n",
       "        text-align: right;\n",
       "    }\n",
       "</style>\n",
       "<table border=\"1\" class=\"dataframe\">\n",
       "  <thead>\n",
       "    <tr style=\"text-align: right;\">\n",
       "      <th></th>\n",
       "      <th>OBJECTID</th>\n",
       "      <th>DFIRM_ID</th>\n",
       "      <th>VERSION_ID</th>\n",
       "      <th>FLD_AR_ID</th>\n",
       "      <th>STUDY_TYP</th>\n",
       "      <th>FLD_ZONE</th>\n",
       "      <th>ZONE_SUBTY</th>\n",
       "      <th>SFHA_TF</th>\n",
       "      <th>STATIC_BFE</th>\n",
       "      <th>V_DATUM</th>\n",
       "      <th>...</th>\n",
       "      <th>BFE_REVERT</th>\n",
       "      <th>DEP_REVERT</th>\n",
       "      <th>DUAL_ZONE</th>\n",
       "      <th>SOURCE_CIT</th>\n",
       "      <th>GFID</th>\n",
       "      <th>Shape_Length</th>\n",
       "      <th>Shape_Area</th>\n",
       "      <th>CO_FIPS</th>\n",
       "      <th>County</th>\n",
       "      <th>SHAPE</th>\n",
       "    </tr>\n",
       "  </thead>\n",
       "  <tbody>\n",
       "    <tr>\n",
       "      <th>0</th>\n",
       "      <td>1</td>\n",
       "      <td>06087C</td>\n",
       "      <td>1.1.1.0</td>\n",
       "      <td>06087C_6</td>\n",
       "      <td>NP</td>\n",
       "      <td>A</td>\n",
       "      <td>&lt;NA&gt;</td>\n",
       "      <td>T</td>\n",
       "      <td>-9999.0</td>\n",
       "      <td>&lt;NA&gt;</td>\n",
       "      <td>...</td>\n",
       "      <td>-9999.0</td>\n",
       "      <td>-9999.0</td>\n",
       "      <td>&lt;NA&gt;</td>\n",
       "      <td>06087C_STUDY1</td>\n",
       "      <td>5c32f5e6-e407-499e-9aac-21070df175a9</td>\n",
       "      <td>2480.178083</td>\n",
       "      <td>40344.798174</td>\n",
       "      <td>087</td>\n",
       "      <td>Santa Cruz</td>\n",
       "      <td>{\"rings\": [[[-189089.44590000063, -93566.90960...</td>\n",
       "    </tr>\n",
       "    <tr>\n",
       "      <th>1</th>\n",
       "      <td>2</td>\n",
       "      <td>06087C</td>\n",
       "      <td>1.1.1.0</td>\n",
       "      <td>06087C_12</td>\n",
       "      <td>NP</td>\n",
       "      <td>A</td>\n",
       "      <td>&lt;NA&gt;</td>\n",
       "      <td>T</td>\n",
       "      <td>-9999.0</td>\n",
       "      <td>&lt;NA&gt;</td>\n",
       "      <td>...</td>\n",
       "      <td>-9999.0</td>\n",
       "      <td>-9999.0</td>\n",
       "      <td>&lt;NA&gt;</td>\n",
       "      <td>06087C_STUDY1</td>\n",
       "      <td>5c32f5e6-e407-499e-9aac-21070df175a9</td>\n",
       "      <td>724.180157</td>\n",
       "      <td>24847.320406</td>\n",
       "      <td>087</td>\n",
       "      <td>Santa Cruz</td>\n",
       "      <td>{\"rings\": [[[-160979.05110000074, -115433.7480...</td>\n",
       "    </tr>\n",
       "    <tr>\n",
       "      <th>2</th>\n",
       "      <td>3</td>\n",
       "      <td>06087C</td>\n",
       "      <td>1.1.1.0</td>\n",
       "      <td>06087C_14</td>\n",
       "      <td>NP</td>\n",
       "      <td>A</td>\n",
       "      <td>&lt;NA&gt;</td>\n",
       "      <td>T</td>\n",
       "      <td>-9999.0</td>\n",
       "      <td>&lt;NA&gt;</td>\n",
       "      <td>...</td>\n",
       "      <td>-9999.0</td>\n",
       "      <td>-9999.0</td>\n",
       "      <td>&lt;NA&gt;</td>\n",
       "      <td>06087C_STUDY1</td>\n",
       "      <td>5c32f5e6-e407-499e-9aac-21070df175a9</td>\n",
       "      <td>1407.449224</td>\n",
       "      <td>137581.273971</td>\n",
       "      <td>087</td>\n",
       "      <td>Santa Cruz</td>\n",
       "      <td>{\"rings\": [[[-143286.5594999995, -122125.10710...</td>\n",
       "    </tr>\n",
       "    <tr>\n",
       "      <th>3</th>\n",
       "      <td>4</td>\n",
       "      <td>06087C</td>\n",
       "      <td>1.1.1.0</td>\n",
       "      <td>06087C_21</td>\n",
       "      <td>NP</td>\n",
       "      <td>A</td>\n",
       "      <td>&lt;NA&gt;</td>\n",
       "      <td>T</td>\n",
       "      <td>-9999.0</td>\n",
       "      <td>&lt;NA&gt;</td>\n",
       "      <td>...</td>\n",
       "      <td>-9999.0</td>\n",
       "      <td>-9999.0</td>\n",
       "      <td>&lt;NA&gt;</td>\n",
       "      <td>06087C_STUDY1</td>\n",
       "      <td>5c32f5e6-e407-499e-9aac-21070df175a9</td>\n",
       "      <td>15655.534418</td>\n",
       "      <td>902558.705077</td>\n",
       "      <td>087</td>\n",
       "      <td>Santa Cruz</td>\n",
       "      <td>{\"rings\": [[[-182445.5996000003, -96833.979199...</td>\n",
       "    </tr>\n",
       "    <tr>\n",
       "      <th>4</th>\n",
       "      <td>5</td>\n",
       "      <td>06087C</td>\n",
       "      <td>1.1.1.0</td>\n",
       "      <td>06087C_62</td>\n",
       "      <td>NP</td>\n",
       "      <td>A</td>\n",
       "      <td>&lt;NA&gt;</td>\n",
       "      <td>T</td>\n",
       "      <td>-9999.0</td>\n",
       "      <td>&lt;NA&gt;</td>\n",
       "      <td>...</td>\n",
       "      <td>-9999.0</td>\n",
       "      <td>-9999.0</td>\n",
       "      <td>&lt;NA&gt;</td>\n",
       "      <td>06087C_STUDY1</td>\n",
       "      <td>5c32f5e6-e407-499e-9aac-21070df175a9</td>\n",
       "      <td>1057.795507</td>\n",
       "      <td>19269.758301</td>\n",
       "      <td>087</td>\n",
       "      <td>Santa Cruz</td>\n",
       "      <td>{\"rings\": [[[-177217.72959999926, -114214.1187...</td>\n",
       "    </tr>\n",
       "  </tbody>\n",
       "</table>\n",
       "<p>5 rows × 26 columns</p>\n",
       "</div>"
      ],
      "text/plain": [
       "   OBJECTID DFIRM_ID VERSION_ID  FLD_AR_ID STUDY_TYP FLD_ZONE ZONE_SUBTY  \\\n",
       "0         1   06087C    1.1.1.0   06087C_6        NP        A       <NA>   \n",
       "1         2   06087C    1.1.1.0  06087C_12        NP        A       <NA>   \n",
       "2         3   06087C    1.1.1.0  06087C_14        NP        A       <NA>   \n",
       "3         4   06087C    1.1.1.0  06087C_21        NP        A       <NA>   \n",
       "4         5   06087C    1.1.1.0  06087C_62        NP        A       <NA>   \n",
       "\n",
       "  SFHA_TF  STATIC_BFE V_DATUM  ...  BFE_REVERT DEP_REVERT  DUAL_ZONE  \\\n",
       "0       T     -9999.0    <NA>  ...     -9999.0    -9999.0       <NA>   \n",
       "1       T     -9999.0    <NA>  ...     -9999.0    -9999.0       <NA>   \n",
       "2       T     -9999.0    <NA>  ...     -9999.0    -9999.0       <NA>   \n",
       "3       T     -9999.0    <NA>  ...     -9999.0    -9999.0       <NA>   \n",
       "4       T     -9999.0    <NA>  ...     -9999.0    -9999.0       <NA>   \n",
       "\n",
       "      SOURCE_CIT                                  GFID  Shape_Length  \\\n",
       "0  06087C_STUDY1  5c32f5e6-e407-499e-9aac-21070df175a9   2480.178083   \n",
       "1  06087C_STUDY1  5c32f5e6-e407-499e-9aac-21070df175a9    724.180157   \n",
       "2  06087C_STUDY1  5c32f5e6-e407-499e-9aac-21070df175a9   1407.449224   \n",
       "3  06087C_STUDY1  5c32f5e6-e407-499e-9aac-21070df175a9  15655.534418   \n",
       "4  06087C_STUDY1  5c32f5e6-e407-499e-9aac-21070df175a9   1057.795507   \n",
       "\n",
       "      Shape_Area  CO_FIPS      County  \\\n",
       "0   40344.798174      087  Santa Cruz   \n",
       "1   24847.320406      087  Santa Cruz   \n",
       "2  137581.273971      087  Santa Cruz   \n",
       "3  902558.705077      087  Santa Cruz   \n",
       "4   19269.758301      087  Santa Cruz   \n",
       "\n",
       "                                               SHAPE  \n",
       "0  {\"rings\": [[[-189089.44590000063, -93566.90960...  \n",
       "1  {\"rings\": [[[-160979.05110000074, -115433.7480...  \n",
       "2  {\"rings\": [[[-143286.5594999995, -122125.10710...  \n",
       "3  {\"rings\": [[[-182445.5996000003, -96833.979199...  \n",
       "4  {\"rings\": [[[-177217.72959999926, -114214.1187...  \n",
       "\n",
       "[5 rows x 26 columns]"
      ]
     },
     "execution_count": 45,
     "metadata": {},
     "output_type": "execute_result"
    }
   ],
   "source": [
    "sdf_floodrisk_100year.head()"
   ]
  },
  {
   "cell_type": "markdown",
   "metadata": {},
   "source": [
    "### Import county and roads shapefiles: could potentially enrich data to apply data engineering principles"
   ]
  },
  {
   "cell_type": "code",
   "execution_count": 6,
   "metadata": {},
   "outputs": [],
   "source": [
    "#Code to import boundary and roads data\n",
    "primary_roads_url = 'https://tigerweb.geo.census.gov/arcgis/rest/services/TIGERweb/Transportation/MapServer/2'\n",
    "primary_roads_layer = FeatureLayer(primary_roads_url)\n",
    "\n",
    "secondary_roads_url = 'https://tigerweb.geo.census.gov/arcgis/rest/services/TIGERweb/Transportation/MapServer/3'\n",
    "secondary_roads_layer = FeatureLayer(secondary_roads_url)\n",
    "\n",
    "local_roads_url = 'https://tigerweb.geo.census.gov/arcgis/rest/services/TIGERweb/Transportation/MapServer/8'\n",
    "local_roads_layer = FeatureLayer(local_roads_url)"
   ]
  },
  {
   "cell_type": "code",
   "execution_count": 34,
   "metadata": {},
   "outputs": [],
   "source": [
    "server_url = 'https://tigerweb.geo.census.gov/arcgis/rest/services/TIGERweb/Transportation/MapServer/'\n",
    "tigerweb_map_service = gis.content.search(server_url)[0]\n",
    "primary_roads_layer = tigerweb_map_service.layers[2] \n",
    "primary_roads_sdf = GeoAccessor.from_layer(primary_roads_layer)\n"
   ]
  },
  {
   "cell_type": "code",
   "execution_count": 35,
   "metadata": {},
   "outputs": [],
   "source": [
    "secondary_roads_layer = tigerweb_map_service.layers[3] \n",
    "secondary_roads_sdf = GeoAccessor.from_layer(secondary_roads_layer)"
   ]
  },
  {
   "cell_type": "code",
   "execution_count": null,
   "metadata": {},
   "outputs": [],
   "source": [
    "local_roads_layer = tigerweb_map_service.layers[8] \n",
    "local_roads_sdf = GeoAccessor.from_layer(local_roads_layer)"
   ]
  },
  {
   "cell_type": "markdown",
   "metadata": {},
   "source": [
    "### Import electrical infrastructure data: transmission lines, substations, power plants and EV charging stations"
   ]
  },
  {
   "cell_type": "code",
   "execution_count": 18,
   "metadata": {},
   "outputs": [],
   "source": [
    "#Code to import electrical infrastructure\n",
    "transmission_url = 'https://services3.arcgis.com/bWPjFyq029ChCGur/arcgis/rest/services/Transmission_Line/FeatureServer/2'\n",
    "transmission_layer = FeatureLayer(transmission_url)\n",
    "transmission_sdf = GeoAccessor.from_layer(transmission_layer)"
   ]
  },
  {
   "cell_type": "code",
   "execution_count": 19,
   "metadata": {},
   "outputs": [],
   "source": [
    "powerplants_url = 'https://services3.arcgis.com/bWPjFyq029ChCGur/arcgis/rest/services/Power_Plant/FeatureServer/0'\n",
    "powerplants_layer = FeatureLayer(powerplants_url)\n",
    "powerplants_sdf = GeoAccessor.from_layer(powerplants_layer)"
   ]
  },
  {
   "cell_type": "code",
   "execution_count": 18,
   "metadata": {},
   "outputs": [],
   "source": [
    "#Code to import electrical infrastructure\n",
    "transmission_url = 'https://services3.arcgis.com/bWPjFyq029ChCGur/arcgis/rest/services/Transmission_Line/FeatureServer/2'\n",
    "transmission_layer = FeatureLayer(transmission_url)\n",
    "transmission_sdf = GeoAccessor.from_layer(transmission_layer)"
   ]
  },
  {
   "cell_type": "code",
   "execution_count": 19,
   "metadata": {},
   "outputs": [],
   "source": [
    "powerplants_url = 'https://services3.arcgis.com/bWPjFyq029ChCGur/arcgis/rest/services/Power_Plant/FeatureServer/0'\n",
    "powerplants_layer = FeatureLayer(powerplants_url)\n",
    "powerplants_sdf = GeoAccessor.from_layer(powerplants_layer)"
   ]
  },
  {
   "cell_type": "code",
   "execution_count": 20,
   "metadata": {},
   "outputs": [],
   "source": [
    "solar_footprints_url = 'https://services3.arcgis.com/bWPjFyq029ChCGur/arcgis/rest/services/Solar_Footprints_V2/FeatureServer/0'\n",
    "solar_footprints_layer = FeatureLayer(solar_footprints_url)\n",
    "solar_footprints_sdf = GeoAccessor.from_layer(solar_footprints_layer)"
   ]
  },
  {
   "cell_type": "markdown",
   "metadata": {},
   "source": [
    "### Import CalAdapt data by year - Allow user to specify and specific year and import the relevant shapefile in the time series"
   ]
  },
  {
   "cell_type": "markdown",
   "metadata": {},
   "source": [
    "User inputs:\n",
    "\n",
    "Flood data - 100 year / 200 year / 500 year\n",
    "Sea level rise - flood scenario: max/med/min - Brian\n",
    "Wildfire - get the raster file for a specific year based on user input of scenario and model (decide whether to fix model later) - Justin\n",
    "Extreme heat - look into how to import and join - Brian\n"
   ]
  },
  {
   "cell_type": "markdown",
   "metadata": {},
   "source": [
    "#### Wildfires"
   ]
  },
  {
   "cell_type": "code",
   "execution_count": 196,
   "metadata": {},
   "outputs": [],
   "source": [
    "from osgeo import gdal\n",
    "from matplotlib import pyplot as plt"
   ]
  },
  {
   "cell_type": "code",
   "execution_count": 198,
   "metadata": {},
   "outputs": [
    {
     "data": {
      "text/plain": [
       "{'ccc4aregions': 'https://api.cal-adapt.org/api/ccc4aregions/',\n",
       " 'cdistricts': 'https://api.cal-adapt.org/api/cdistricts/',\n",
       " 'censustracts': 'https://api.cal-adapt.org/api/censustracts/',\n",
       " 'climregions': 'https://api.cal-adapt.org/api/climregions/',\n",
       " 'counties': 'https://api.cal-adapt.org/api/counties/',\n",
       " 'datasets': 'https://api.cal-adapt.org/api/datasets/',\n",
       " 'electricutilities': 'https://api.cal-adapt.org/api/electricutilities/',\n",
       " 'evtlocations': 'https://api.cal-adapt.org/api/evtlocations/',\n",
       " 'hadisdstations': 'https://api.cal-adapt.org/api/hadisdstations/',\n",
       " 'hydrounits': 'https://api.cal-adapt.org/api/hydrounits/',\n",
       " 'irwm': 'https://api.cal-adapt.org/api/irwm/',\n",
       " 'locagrid': 'https://api.cal-adapt.org/api/locagrid/',\n",
       " 'place': 'https://api.cal-adapt.org/api/place/',\n",
       " 'rstores': 'https://api.cal-adapt.org/api/rstores/',\n",
       " 'series': 'https://api.cal-adapt.org/api/series/',\n",
       " 'states': 'https://api.cal-adapt.org/api/states/',\n",
       " 'tseries': 'https://api.cal-adapt.org/api/tseries/',\n",
       " 'wecc-load-area': 'https://api.cal-adapt.org/api/wecc-load-area/'}"
      ]
     },
     "execution_count": 198,
     "metadata": {},
     "output_type": "execute_result"
    }
   ],
   "source": [
    "#Code to import wildfire data\n",
    "\n",
    "import requests\n",
    "#import geopandas as gpd\n",
    "import pandas as pd\n",
    "import numpy as np\n",
    "r = requests.get('http://api.cal-adapt.org/api/')\n",
    "r.json()"
   ]
  },
  {
   "cell_type": "code",
   "execution_count": 199,
   "metadata": {},
   "outputs": [],
   "source": [
    "series = requests.get('http://api.cal-adapt.org/api/series/')\n",
    "#series.json()"
   ]
  },
  {
   "cell_type": "code",
   "execution_count": null,
   "metadata": {},
   "outputs": [
    {
     "name": "stdout",
     "output_type": "stream",
     "text": [
      "fireprob_10y_CNRM-CM5_rcp45_bau\n",
      "fireprob_10y_CNRM-CM5_rcp45_bau_01\n",
      "fireprob_10y_CNRM-CM5_rcp45_bau_02\n",
      "fireprob_10y_CNRM-CM5_rcp45_bau_03\n",
      "fireprob_10y_CNRM-CM5_rcp45_bau_04\n",
      "fireprob_10y_CNRM-CM5_rcp45_bau_05\n",
      "fireprob_10y_CNRM-CM5_rcp45_bau_06\n",
      "fireprob_10y_CNRM-CM5_rcp45_bau_07\n",
      "fireprob_10y_CNRM-CM5_rcp45_bau_08\n",
      "fireprob_10y_CNRM-CM5_rcp45_bau_09\n",
      "fireprob_10y_CNRM-CM5_rcp45_bau_10\n",
      "fireprob_10y_CNRM-CM5_rcp45_bau_11\n",
      "fireprob_10y_CNRM-CM5_rcp45_bau_12\n",
      "fireprob_10y_CNRM-CM5_rcp85_bau\n",
      "fireprob_10y_CNRM-CM5_rcp85_bau_01\n",
      "fireprob_10y_CNRM-CM5_rcp85_bau_02\n",
      "fireprob_10y_CNRM-CM5_rcp85_bau_03\n",
      "fireprob_10y_CNRM-CM5_rcp85_bau_04\n",
      "fireprob_10y_CNRM-CM5_rcp85_bau_05\n",
      "fireprob_10y_CNRM-CM5_rcp85_bau_06\n",
      "fireprob_10y_CNRM-CM5_rcp85_bau_07\n",
      "fireprob_10y_CNRM-CM5_rcp85_bau_08\n",
      "fireprob_10y_CNRM-CM5_rcp85_bau_09\n",
      "fireprob_10y_CNRM-CM5_rcp85_bau_10\n",
      "fireprob_10y_CNRM-CM5_rcp85_bau_11\n",
      "fireprob_10y_CNRM-CM5_rcp85_bau_12\n",
      "fireprob_10y_CanESM2_rcp45_bau\n",
      "fireprob_10y_CanESM2_rcp45_bau_01\n",
      "fireprob_10y_CanESM2_rcp45_bau_02\n",
      "fireprob_10y_CanESM2_rcp45_bau_03\n",
      "fireprob_10y_CanESM2_rcp45_bau_04\n",
      "fireprob_10y_CanESM2_rcp45_bau_05\n",
      "fireprob_10y_CanESM2_rcp45_bau_06\n",
      "fireprob_10y_CanESM2_rcp45_bau_07\n",
      "fireprob_10y_CanESM2_rcp45_bau_08\n",
      "fireprob_10y_CanESM2_rcp45_bau_09\n",
      "fireprob_10y_CanESM2_rcp45_bau_10\n",
      "fireprob_10y_CanESM2_rcp45_bau_11\n",
      "fireprob_10y_CanESM2_rcp45_bau_12\n",
      "fireprob_10y_CanESM2_rcp85_bau\n",
      "fireprob_10y_CanESM2_rcp85_bau_01\n",
      "fireprob_10y_CanESM2_rcp85_bau_02\n",
      "fireprob_10y_CanESM2_rcp85_bau_03\n",
      "fireprob_10y_CanESM2_rcp85_bau_04\n",
      "fireprob_10y_CanESM2_rcp85_bau_05\n",
      "fireprob_10y_CanESM2_rcp85_bau_06\n",
      "fireprob_10y_CanESM2_rcp85_bau_07\n",
      "fireprob_10y_CanESM2_rcp85_bau_08\n",
      "fireprob_10y_CanESM2_rcp85_bau_09\n",
      "fireprob_10y_CanESM2_rcp85_bau_10\n",
      "fireprob_10y_CanESM2_rcp85_bau_11\n",
      "fireprob_10y_CanESM2_rcp85_bau_12\n",
      "fireprob_10y_HadGEM2-ES_rcp45_bau\n",
      "fireprob_10y_HadGEM2-ES_rcp45_bau_01\n",
      "fireprob_10y_HadGEM2-ES_rcp45_bau_02\n",
      "fireprob_10y_HadGEM2-ES_rcp45_bau_03\n",
      "fireprob_10y_HadGEM2-ES_rcp45_bau_04\n",
      "fireprob_10y_HadGEM2-ES_rcp45_bau_05\n",
      "fireprob_10y_HadGEM2-ES_rcp45_bau_06\n",
      "fireprob_10y_HadGEM2-ES_rcp45_bau_07\n",
      "fireprob_10y_HadGEM2-ES_rcp45_bau_08\n",
      "fireprob_10y_HadGEM2-ES_rcp45_bau_09\n",
      "fireprob_10y_HadGEM2-ES_rcp45_bau_10\n",
      "fireprob_10y_HadGEM2-ES_rcp45_bau_11\n",
      "fireprob_10y_HadGEM2-ES_rcp45_bau_12\n",
      "fireprob_10y_HadGEM2-ES_rcp85_bau\n",
      "fireprob_10y_HadGEM2-ES_rcp85_bau_01\n",
      "fireprob_10y_HadGEM2-ES_rcp85_bau_02\n",
      "fireprob_10y_HadGEM2-ES_rcp85_bau_03\n",
      "fireprob_10y_HadGEM2-ES_rcp85_bau_04\n",
      "fireprob_10y_HadGEM2-ES_rcp85_bau_05\n",
      "fireprob_10y_HadGEM2-ES_rcp85_bau_06\n",
      "fireprob_10y_HadGEM2-ES_rcp85_bau_07\n",
      "fireprob_10y_HadGEM2-ES_rcp85_bau_08\n",
      "fireprob_10y_HadGEM2-ES_rcp85_bau_09\n",
      "fireprob_10y_HadGEM2-ES_rcp85_bau_10\n",
      "fireprob_10y_HadGEM2-ES_rcp85_bau_11\n",
      "fireprob_10y_HadGEM2-ES_rcp85_bau_12\n",
      "fireprob_10y_MIROC5_rcp45_bau\n",
      "fireprob_10y_MIROC5_rcp45_bau_01\n",
      "fireprob_10y_MIROC5_rcp45_bau_02\n",
      "fireprob_10y_MIROC5_rcp45_bau_03\n",
      "fireprob_10y_MIROC5_rcp45_bau_04\n",
      "fireprob_10y_MIROC5_rcp45_bau_05\n",
      "fireprob_10y_MIROC5_rcp45_bau_06\n",
      "fireprob_10y_MIROC5_rcp45_bau_07\n",
      "fireprob_10y_MIROC5_rcp45_bau_08\n",
      "fireprob_10y_MIROC5_rcp45_bau_09\n",
      "fireprob_10y_MIROC5_rcp45_bau_10\n",
      "fireprob_10y_MIROC5_rcp45_bau_11\n",
      "fireprob_10y_MIROC5_rcp45_bau_12\n",
      "fireprob_10y_MIROC5_rcp85_bau\n",
      "fireprob_10y_MIROC5_rcp85_bau_01\n",
      "fireprob_10y_MIROC5_rcp85_bau_02\n",
      "fireprob_10y_MIROC5_rcp85_bau_03\n",
      "fireprob_10y_MIROC5_rcp85_bau_04\n",
      "fireprob_10y_MIROC5_rcp85_bau_05\n",
      "fireprob_10y_MIROC5_rcp85_bau_06\n",
      "fireprob_10y_MIROC5_rcp85_bau_07\n",
      "fireprob_10y_MIROC5_rcp85_bau_08\n"
     ]
    }
   ],
   "source": [
    "#{variable}_{period}_{model}_{scenario}\n",
    "\n",
    "#user_input_model = arcpy.GetParameterAsText(0)\n",
    "user_input_model = 'average simulation'\n",
    "\n",
    "if user_input_model == 'average simulation':\n",
    "    slug_model = 'CanESM2'\n",
    "elif user_input_model == 'warmer/drier simulation':\n",
    "    slug_model = 'HadGEM2-ES'\n",
    "elif user_input_model == 'cooler/wetter simulation':\n",
    "    slug_model = 'CNRM-CM5'\n",
    "elif user_input_model == 'dissimilar simulation':\n",
    "    slug_model = 'MIROC5'\n",
    "\n",
    "#user_input_scenario = arcpy.GetParameterAsText(1)\n",
    "user_input_scenario = 'medium emissions scenario'\n",
    "\n",
    "if user_input_scenario == 'medium emissions scenario':\n",
    "    slug_scenario = 'rcp45'\n",
    "elif user_input_scenario == 'high emissions scenario':\n",
    "    slug_scenario = 'rcp85'\n",
    "\n",
    "\n",
    "slug_var = 'fireprob' #fixed\n",
    "slug_per = '10y' #fixed\n",
    "\n",
    "#warmer/drier simulation: HadGEM2\n",
    "#average simulation: CanESM2\n",
    "#cooler/wetter simulation: CNRM-CM5\n",
    "#dissimlar simulation (unlike other three to produce maximal coverage): MIROC5\n",
    "\n",
    "#RCP 4.5: medium emissions scenario, GHG peak by 2040 and decline\n",
    "#RCP 8.5: high emissions scenario, GHG continue to rise throughout the 21st century\n",
    "\n",
    "slug_time = 'bau' #fixed, other options: 01 through 12, changes month, just 'bau' contains yearly data\n",
    "slug = slug_var + '_' + slug_per + '_' + slug_model + '_' + slug_scenario + '_' + slug_time\n",
    "\n",
    "#params = {'slug': [slug], 'pagesize': 100}\n",
    "params = {'name': ['fire'], 'slug': 'prob', 'pagesize': 100}\n",
    "\n",
    "#slug: {variable}_{period}_{model}_{scenario}\n",
    "\n",
    "# Use params with the url.\n",
    "response = requests.get('http://api.cal-adapt.org/api/series/', params=params)\n",
    "\n",
    "# It is a good idea to check there were no problems with the request.\n",
    "if response.ok:\n",
    "    data = response.json()\n",
    "    # Get a list of raster series from results property of data object\n",
    "    results = data['results']\n",
    "    # Iterate through the list and print the url property of each object\n",
    "    for item in results:\n",
    "        print(item['slug'])"
   ]
  },
  {
   "cell_type": "code",
   "execution_count": 203,
   "metadata": {},
   "outputs": [
    {
     "data": {
      "text/plain": [
       "{'count': 13,\n",
       " 'next': None,\n",
       " 'previous': None,\n",
       " 'results': [{'name': 'U.C. Merced Decadal Yearly Wildfire Probability business as usual scenario CanESM2 RCP 4.5',\n",
       "   'slug': 'fireprob_10y_CanESM2_rcp45_bau',\n",
       "   'url': 'https://api.cal-adapt.org/api/series/fireprob_10y_CanESM2_rcp45_bau/',\n",
       "   'begin': '1960-01-01T00:00:00Z',\n",
       "   'end': '2099-12-31T00:00:00Z',\n",
       "   'rasters': ['https://api.cal-adapt.org/api/rstores/fireprob_10y_CanESM2_rcp45_bau_1960-1969/',\n",
       "    'https://api.cal-adapt.org/api/rstores/fireprob_10y_CanESM2_rcp45_bau_1970-1979/',\n",
       "    'https://api.cal-adapt.org/api/rstores/fireprob_10y_CanESM2_rcp45_bau_1980-1989/',\n",
       "    'https://api.cal-adapt.org/api/rstores/fireprob_10y_CanESM2_rcp45_bau_1990-1999/',\n",
       "    'https://api.cal-adapt.org/api/rstores/fireprob_10y_CanESM2_rcp45_bau_2000-2009/',\n",
       "    'https://api.cal-adapt.org/api/rstores/fireprob_10y_CanESM2_rcp45_bau_2010-2019/',\n",
       "    'https://api.cal-adapt.org/api/rstores/fireprob_10y_CanESM2_rcp45_bau_2020-2029/',\n",
       "    'https://api.cal-adapt.org/api/rstores/fireprob_10y_CanESM2_rcp45_bau_2030-2039/',\n",
       "    'https://api.cal-adapt.org/api/rstores/fireprob_10y_CanESM2_rcp45_bau_2040-2049/',\n",
       "    'https://api.cal-adapt.org/api/rstores/fireprob_10y_CanESM2_rcp45_bau_2050-2059/',\n",
       "    'https://api.cal-adapt.org/api/rstores/fireprob_10y_CanESM2_rcp45_bau_2060-2069/',\n",
       "    'https://api.cal-adapt.org/api/rstores/fireprob_10y_CanESM2_rcp45_bau_2070-2079/',\n",
       "    'https://api.cal-adapt.org/api/rstores/fireprob_10y_CanESM2_rcp45_bau_2080-2089/',\n",
       "    'https://api.cal-adapt.org/api/rstores/fireprob_10y_CanESM2_rcp45_bau_2090-2099/'],\n",
       "   'tres': 'decadal'},\n",
       "  {'name': 'U.C. Merced Decadal Monthly Wildfire Probability business as usual scenario CanESM2 RCP 4.5 01',\n",
       "   'slug': 'fireprob_10y_CanESM2_rcp45_bau_01',\n",
       "   'url': 'https://api.cal-adapt.org/api/series/fireprob_10y_CanESM2_rcp45_bau_01/',\n",
       "   'begin': '1960-01-01T00:00:00Z',\n",
       "   'end': '2099-12-31T00:00:00Z',\n",
       "   'rasters': ['https://api.cal-adapt.org/api/rstores/fireprob_10y_CanESM2_rcp45_bau_1960-1969_01/',\n",
       "    'https://api.cal-adapt.org/api/rstores/fireprob_10y_CanESM2_rcp45_bau_1970-1979_01/',\n",
       "    'https://api.cal-adapt.org/api/rstores/fireprob_10y_CanESM2_rcp45_bau_1980-1989_01/',\n",
       "    'https://api.cal-adapt.org/api/rstores/fireprob_10y_CanESM2_rcp45_bau_1990-1999_01/',\n",
       "    'https://api.cal-adapt.org/api/rstores/fireprob_10y_CanESM2_rcp45_bau_2000-2009_01/',\n",
       "    'https://api.cal-adapt.org/api/rstores/fireprob_10y_CanESM2_rcp45_bau_2010-2019_01/',\n",
       "    'https://api.cal-adapt.org/api/rstores/fireprob_10y_CanESM2_rcp45_bau_2020-2029_01/',\n",
       "    'https://api.cal-adapt.org/api/rstores/fireprob_10y_CanESM2_rcp45_bau_2030-2039_01/',\n",
       "    'https://api.cal-adapt.org/api/rstores/fireprob_10y_CanESM2_rcp45_bau_2040-2049_01/',\n",
       "    'https://api.cal-adapt.org/api/rstores/fireprob_10y_CanESM2_rcp45_bau_2050-2059_01/',\n",
       "    'https://api.cal-adapt.org/api/rstores/fireprob_10y_CanESM2_rcp45_bau_2060-2069_01/',\n",
       "    'https://api.cal-adapt.org/api/rstores/fireprob_10y_CanESM2_rcp45_bau_2070-2079_01/',\n",
       "    'https://api.cal-adapt.org/api/rstores/fireprob_10y_CanESM2_rcp45_bau_2080-2089_01/',\n",
       "    'https://api.cal-adapt.org/api/rstores/fireprob_10y_CanESM2_rcp45_bau_2090-2099_01/'],\n",
       "   'tres': 'decadal-january'},\n",
       "  {'name': 'U.C. Merced Decadal Monthly Wildfire Probability business as usual scenario CanESM2 RCP 4.5 02',\n",
       "   'slug': 'fireprob_10y_CanESM2_rcp45_bau_02',\n",
       "   'url': 'https://api.cal-adapt.org/api/series/fireprob_10y_CanESM2_rcp45_bau_02/',\n",
       "   'begin': '1960-01-01T00:00:00Z',\n",
       "   'end': '2099-12-31T00:00:00Z',\n",
       "   'rasters': ['https://api.cal-adapt.org/api/rstores/fireprob_10y_CanESM2_rcp45_bau_1960-1969_02/',\n",
       "    'https://api.cal-adapt.org/api/rstores/fireprob_10y_CanESM2_rcp45_bau_1970-1979_02/',\n",
       "    'https://api.cal-adapt.org/api/rstores/fireprob_10y_CanESM2_rcp45_bau_1980-1989_02/',\n",
       "    'https://api.cal-adapt.org/api/rstores/fireprob_10y_CanESM2_rcp45_bau_1990-1999_02/',\n",
       "    'https://api.cal-adapt.org/api/rstores/fireprob_10y_CanESM2_rcp45_bau_2000-2009_02/',\n",
       "    'https://api.cal-adapt.org/api/rstores/fireprob_10y_CanESM2_rcp45_bau_2010-2019_02/',\n",
       "    'https://api.cal-adapt.org/api/rstores/fireprob_10y_CanESM2_rcp45_bau_2020-2029_02/',\n",
       "    'https://api.cal-adapt.org/api/rstores/fireprob_10y_CanESM2_rcp45_bau_2030-2039_02/',\n",
       "    'https://api.cal-adapt.org/api/rstores/fireprob_10y_CanESM2_rcp45_bau_2040-2049_02/',\n",
       "    'https://api.cal-adapt.org/api/rstores/fireprob_10y_CanESM2_rcp45_bau_2050-2059_02/',\n",
       "    'https://api.cal-adapt.org/api/rstores/fireprob_10y_CanESM2_rcp45_bau_2060-2069_02/',\n",
       "    'https://api.cal-adapt.org/api/rstores/fireprob_10y_CanESM2_rcp45_bau_2070-2079_02/',\n",
       "    'https://api.cal-adapt.org/api/rstores/fireprob_10y_CanESM2_rcp45_bau_2080-2089_02/',\n",
       "    'https://api.cal-adapt.org/api/rstores/fireprob_10y_CanESM2_rcp45_bau_2090-2099_02/'],\n",
       "   'tres': 'decadal-febuary'},\n",
       "  {'name': 'U.C. Merced Decadal Monthly Wildfire Probability business as usual scenario CanESM2 RCP 4.5 03',\n",
       "   'slug': 'fireprob_10y_CanESM2_rcp45_bau_03',\n",
       "   'url': 'https://api.cal-adapt.org/api/series/fireprob_10y_CanESM2_rcp45_bau_03/',\n",
       "   'begin': '1960-01-01T00:00:00Z',\n",
       "   'end': '2099-12-31T00:00:00Z',\n",
       "   'rasters': ['https://api.cal-adapt.org/api/rstores/fireprob_10y_CanESM2_rcp45_bau_1960-1969_03/',\n",
       "    'https://api.cal-adapt.org/api/rstores/fireprob_10y_CanESM2_rcp45_bau_1970-1979_03/',\n",
       "    'https://api.cal-adapt.org/api/rstores/fireprob_10y_CanESM2_rcp45_bau_1980-1989_03/',\n",
       "    'https://api.cal-adapt.org/api/rstores/fireprob_10y_CanESM2_rcp45_bau_1990-1999_03/',\n",
       "    'https://api.cal-adapt.org/api/rstores/fireprob_10y_CanESM2_rcp45_bau_2000-2009_03/',\n",
       "    'https://api.cal-adapt.org/api/rstores/fireprob_10y_CanESM2_rcp45_bau_2010-2019_03/',\n",
       "    'https://api.cal-adapt.org/api/rstores/fireprob_10y_CanESM2_rcp45_bau_2020-2029_03/',\n",
       "    'https://api.cal-adapt.org/api/rstores/fireprob_10y_CanESM2_rcp45_bau_2030-2039_03/',\n",
       "    'https://api.cal-adapt.org/api/rstores/fireprob_10y_CanESM2_rcp45_bau_2040-2049_03/',\n",
       "    'https://api.cal-adapt.org/api/rstores/fireprob_10y_CanESM2_rcp45_bau_2050-2059_03/',\n",
       "    'https://api.cal-adapt.org/api/rstores/fireprob_10y_CanESM2_rcp45_bau_2060-2069_03/',\n",
       "    'https://api.cal-adapt.org/api/rstores/fireprob_10y_CanESM2_rcp45_bau_2070-2079_03/',\n",
       "    'https://api.cal-adapt.org/api/rstores/fireprob_10y_CanESM2_rcp45_bau_2080-2089_03/',\n",
       "    'https://api.cal-adapt.org/api/rstores/fireprob_10y_CanESM2_rcp45_bau_2090-2099_03/'],\n",
       "   'tres': 'decadal-march'},\n",
       "  {'name': 'U.C. Merced Decadal Monthly Wildfire Probability business as usual scenario CanESM2 RCP 4.5 04',\n",
       "   'slug': 'fireprob_10y_CanESM2_rcp45_bau_04',\n",
       "   'url': 'https://api.cal-adapt.org/api/series/fireprob_10y_CanESM2_rcp45_bau_04/',\n",
       "   'begin': '1960-01-01T00:00:00Z',\n",
       "   'end': '2099-12-31T00:00:00Z',\n",
       "   'rasters': ['https://api.cal-adapt.org/api/rstores/fireprob_10y_CanESM2_rcp45_bau_1960-1969_04/',\n",
       "    'https://api.cal-adapt.org/api/rstores/fireprob_10y_CanESM2_rcp45_bau_1970-1979_04/',\n",
       "    'https://api.cal-adapt.org/api/rstores/fireprob_10y_CanESM2_rcp45_bau_1980-1989_04/',\n",
       "    'https://api.cal-adapt.org/api/rstores/fireprob_10y_CanESM2_rcp45_bau_1990-1999_04/',\n",
       "    'https://api.cal-adapt.org/api/rstores/fireprob_10y_CanESM2_rcp45_bau_2000-2009_04/',\n",
       "    'https://api.cal-adapt.org/api/rstores/fireprob_10y_CanESM2_rcp45_bau_2010-2019_04/',\n",
       "    'https://api.cal-adapt.org/api/rstores/fireprob_10y_CanESM2_rcp45_bau_2020-2029_04/',\n",
       "    'https://api.cal-adapt.org/api/rstores/fireprob_10y_CanESM2_rcp45_bau_2030-2039_04/',\n",
       "    'https://api.cal-adapt.org/api/rstores/fireprob_10y_CanESM2_rcp45_bau_2040-2049_04/',\n",
       "    'https://api.cal-adapt.org/api/rstores/fireprob_10y_CanESM2_rcp45_bau_2050-2059_04/',\n",
       "    'https://api.cal-adapt.org/api/rstores/fireprob_10y_CanESM2_rcp45_bau_2060-2069_04/',\n",
       "    'https://api.cal-adapt.org/api/rstores/fireprob_10y_CanESM2_rcp45_bau_2070-2079_04/',\n",
       "    'https://api.cal-adapt.org/api/rstores/fireprob_10y_CanESM2_rcp45_bau_2080-2089_04/',\n",
       "    'https://api.cal-adapt.org/api/rstores/fireprob_10y_CanESM2_rcp45_bau_2090-2099_04/'],\n",
       "   'tres': 'decadal-april'},\n",
       "  {'name': 'U.C. Merced Decadal Monthly Wildfire Probability business as usual scenario CanESM2 RCP 4.5 05',\n",
       "   'slug': 'fireprob_10y_CanESM2_rcp45_bau_05',\n",
       "   'url': 'https://api.cal-adapt.org/api/series/fireprob_10y_CanESM2_rcp45_bau_05/',\n",
       "   'begin': '1960-01-01T00:00:00Z',\n",
       "   'end': '2099-12-31T00:00:00Z',\n",
       "   'rasters': ['https://api.cal-adapt.org/api/rstores/fireprob_10y_CanESM2_rcp45_bau_1960-1969_05/',\n",
       "    'https://api.cal-adapt.org/api/rstores/fireprob_10y_CanESM2_rcp45_bau_1970-1979_05/',\n",
       "    'https://api.cal-adapt.org/api/rstores/fireprob_10y_CanESM2_rcp45_bau_1980-1989_05/',\n",
       "    'https://api.cal-adapt.org/api/rstores/fireprob_10y_CanESM2_rcp45_bau_1990-1999_05/',\n",
       "    'https://api.cal-adapt.org/api/rstores/fireprob_10y_CanESM2_rcp45_bau_2000-2009_05/',\n",
       "    'https://api.cal-adapt.org/api/rstores/fireprob_10y_CanESM2_rcp45_bau_2010-2019_05/',\n",
       "    'https://api.cal-adapt.org/api/rstores/fireprob_10y_CanESM2_rcp45_bau_2020-2029_05/',\n",
       "    'https://api.cal-adapt.org/api/rstores/fireprob_10y_CanESM2_rcp45_bau_2030-2039_05/',\n",
       "    'https://api.cal-adapt.org/api/rstores/fireprob_10y_CanESM2_rcp45_bau_2040-2049_05/',\n",
       "    'https://api.cal-adapt.org/api/rstores/fireprob_10y_CanESM2_rcp45_bau_2050-2059_05/',\n",
       "    'https://api.cal-adapt.org/api/rstores/fireprob_10y_CanESM2_rcp45_bau_2060-2069_05/',\n",
       "    'https://api.cal-adapt.org/api/rstores/fireprob_10y_CanESM2_rcp45_bau_2070-2079_05/',\n",
       "    'https://api.cal-adapt.org/api/rstores/fireprob_10y_CanESM2_rcp45_bau_2080-2089_05/',\n",
       "    'https://api.cal-adapt.org/api/rstores/fireprob_10y_CanESM2_rcp45_bau_2090-2099_05/'],\n",
       "   'tres': 'decadal-may'},\n",
       "  {'name': 'U.C. Merced Decadal Monthly Wildfire Probability business as usual scenario CanESM2 RCP 4.5 06',\n",
       "   'slug': 'fireprob_10y_CanESM2_rcp45_bau_06',\n",
       "   'url': 'https://api.cal-adapt.org/api/series/fireprob_10y_CanESM2_rcp45_bau_06/',\n",
       "   'begin': '1960-01-01T00:00:00Z',\n",
       "   'end': '2099-12-31T00:00:00Z',\n",
       "   'rasters': ['https://api.cal-adapt.org/api/rstores/fireprob_10y_CanESM2_rcp45_bau_1960-1969_06/',\n",
       "    'https://api.cal-adapt.org/api/rstores/fireprob_10y_CanESM2_rcp45_bau_1970-1979_06/',\n",
       "    'https://api.cal-adapt.org/api/rstores/fireprob_10y_CanESM2_rcp45_bau_1980-1989_06/',\n",
       "    'https://api.cal-adapt.org/api/rstores/fireprob_10y_CanESM2_rcp45_bau_1990-1999_06/',\n",
       "    'https://api.cal-adapt.org/api/rstores/fireprob_10y_CanESM2_rcp45_bau_2000-2009_06/',\n",
       "    'https://api.cal-adapt.org/api/rstores/fireprob_10y_CanESM2_rcp45_bau_2010-2019_06/',\n",
       "    'https://api.cal-adapt.org/api/rstores/fireprob_10y_CanESM2_rcp45_bau_2020-2029_06/',\n",
       "    'https://api.cal-adapt.org/api/rstores/fireprob_10y_CanESM2_rcp45_bau_2030-2039_06/',\n",
       "    'https://api.cal-adapt.org/api/rstores/fireprob_10y_CanESM2_rcp45_bau_2040-2049_06/',\n",
       "    'https://api.cal-adapt.org/api/rstores/fireprob_10y_CanESM2_rcp45_bau_2050-2059_06/',\n",
       "    'https://api.cal-adapt.org/api/rstores/fireprob_10y_CanESM2_rcp45_bau_2060-2069_06/',\n",
       "    'https://api.cal-adapt.org/api/rstores/fireprob_10y_CanESM2_rcp45_bau_2070-2079_06/',\n",
       "    'https://api.cal-adapt.org/api/rstores/fireprob_10y_CanESM2_rcp45_bau_2080-2089_06/',\n",
       "    'https://api.cal-adapt.org/api/rstores/fireprob_10y_CanESM2_rcp45_bau_2090-2099_06/'],\n",
       "   'tres': 'decadal-june'},\n",
       "  {'name': 'U.C. Merced Decadal Monthly Wildfire Probability business as usual scenario CanESM2 RCP 4.5 07',\n",
       "   'slug': 'fireprob_10y_CanESM2_rcp45_bau_07',\n",
       "   'url': 'https://api.cal-adapt.org/api/series/fireprob_10y_CanESM2_rcp45_bau_07/',\n",
       "   'begin': '1960-01-01T00:00:00Z',\n",
       "   'end': '2099-12-31T00:00:00Z',\n",
       "   'rasters': ['https://api.cal-adapt.org/api/rstores/fireprob_10y_CanESM2_rcp45_bau_1960-1969_07/',\n",
       "    'https://api.cal-adapt.org/api/rstores/fireprob_10y_CanESM2_rcp45_bau_1970-1979_07/',\n",
       "    'https://api.cal-adapt.org/api/rstores/fireprob_10y_CanESM2_rcp45_bau_1980-1989_07/',\n",
       "    'https://api.cal-adapt.org/api/rstores/fireprob_10y_CanESM2_rcp45_bau_1990-1999_07/',\n",
       "    'https://api.cal-adapt.org/api/rstores/fireprob_10y_CanESM2_rcp45_bau_2000-2009_07/',\n",
       "    'https://api.cal-adapt.org/api/rstores/fireprob_10y_CanESM2_rcp45_bau_2010-2019_07/',\n",
       "    'https://api.cal-adapt.org/api/rstores/fireprob_10y_CanESM2_rcp45_bau_2020-2029_07/',\n",
       "    'https://api.cal-adapt.org/api/rstores/fireprob_10y_CanESM2_rcp45_bau_2030-2039_07/',\n",
       "    'https://api.cal-adapt.org/api/rstores/fireprob_10y_CanESM2_rcp45_bau_2040-2049_07/',\n",
       "    'https://api.cal-adapt.org/api/rstores/fireprob_10y_CanESM2_rcp45_bau_2050-2059_07/',\n",
       "    'https://api.cal-adapt.org/api/rstores/fireprob_10y_CanESM2_rcp45_bau_2060-2069_07/',\n",
       "    'https://api.cal-adapt.org/api/rstores/fireprob_10y_CanESM2_rcp45_bau_2070-2079_07/',\n",
       "    'https://api.cal-adapt.org/api/rstores/fireprob_10y_CanESM2_rcp45_bau_2080-2089_07/',\n",
       "    'https://api.cal-adapt.org/api/rstores/fireprob_10y_CanESM2_rcp45_bau_2090-2099_07/'],\n",
       "   'tres': 'decadal-july'},\n",
       "  {'name': 'U.C. Merced Decadal Monthly Wildfire Probability business as usual scenario CanESM2 RCP 4.5 08',\n",
       "   'slug': 'fireprob_10y_CanESM2_rcp45_bau_08',\n",
       "   'url': 'https://api.cal-adapt.org/api/series/fireprob_10y_CanESM2_rcp45_bau_08/',\n",
       "   'begin': '1960-01-01T00:00:00Z',\n",
       "   'end': '2099-12-31T00:00:00Z',\n",
       "   'rasters': ['https://api.cal-adapt.org/api/rstores/fireprob_10y_CanESM2_rcp45_bau_1960-1969_08/',\n",
       "    'https://api.cal-adapt.org/api/rstores/fireprob_10y_CanESM2_rcp45_bau_1970-1979_08/',\n",
       "    'https://api.cal-adapt.org/api/rstores/fireprob_10y_CanESM2_rcp45_bau_1980-1989_08/',\n",
       "    'https://api.cal-adapt.org/api/rstores/fireprob_10y_CanESM2_rcp45_bau_1990-1999_08/',\n",
       "    'https://api.cal-adapt.org/api/rstores/fireprob_10y_CanESM2_rcp45_bau_2000-2009_08/',\n",
       "    'https://api.cal-adapt.org/api/rstores/fireprob_10y_CanESM2_rcp45_bau_2010-2019_08/',\n",
       "    'https://api.cal-adapt.org/api/rstores/fireprob_10y_CanESM2_rcp45_bau_2020-2029_08/',\n",
       "    'https://api.cal-adapt.org/api/rstores/fireprob_10y_CanESM2_rcp45_bau_2030-2039_08/',\n",
       "    'https://api.cal-adapt.org/api/rstores/fireprob_10y_CanESM2_rcp45_bau_2040-2049_08/',\n",
       "    'https://api.cal-adapt.org/api/rstores/fireprob_10y_CanESM2_rcp45_bau_2050-2059_08/',\n",
       "    'https://api.cal-adapt.org/api/rstores/fireprob_10y_CanESM2_rcp45_bau_2060-2069_08/',\n",
       "    'https://api.cal-adapt.org/api/rstores/fireprob_10y_CanESM2_rcp45_bau_2070-2079_08/',\n",
       "    'https://api.cal-adapt.org/api/rstores/fireprob_10y_CanESM2_rcp45_bau_2080-2089_08/',\n",
       "    'https://api.cal-adapt.org/api/rstores/fireprob_10y_CanESM2_rcp45_bau_2090-2099_08/'],\n",
       "   'tres': 'decadal-august'},\n",
       "  {'name': 'U.C. Merced Decadal Monthly Wildfire Probability business as usual scenario CanESM2 RCP 4.5 09',\n",
       "   'slug': 'fireprob_10y_CanESM2_rcp45_bau_09',\n",
       "   'url': 'https://api.cal-adapt.org/api/series/fireprob_10y_CanESM2_rcp45_bau_09/',\n",
       "   'begin': '1960-01-01T00:00:00Z',\n",
       "   'end': '2099-12-31T00:00:00Z',\n",
       "   'rasters': ['https://api.cal-adapt.org/api/rstores/fireprob_10y_CanESM2_rcp45_bau_1960-1969_09/',\n",
       "    'https://api.cal-adapt.org/api/rstores/fireprob_10y_CanESM2_rcp45_bau_1970-1979_09/',\n",
       "    'https://api.cal-adapt.org/api/rstores/fireprob_10y_CanESM2_rcp45_bau_1980-1989_09/',\n",
       "    'https://api.cal-adapt.org/api/rstores/fireprob_10y_CanESM2_rcp45_bau_1990-1999_09/',\n",
       "    'https://api.cal-adapt.org/api/rstores/fireprob_10y_CanESM2_rcp45_bau_2000-2009_09/',\n",
       "    'https://api.cal-adapt.org/api/rstores/fireprob_10y_CanESM2_rcp45_bau_2010-2019_09/',\n",
       "    'https://api.cal-adapt.org/api/rstores/fireprob_10y_CanESM2_rcp45_bau_2020-2029_09/',\n",
       "    'https://api.cal-adapt.org/api/rstores/fireprob_10y_CanESM2_rcp45_bau_2030-2039_09/',\n",
       "    'https://api.cal-adapt.org/api/rstores/fireprob_10y_CanESM2_rcp45_bau_2040-2049_09/',\n",
       "    'https://api.cal-adapt.org/api/rstores/fireprob_10y_CanESM2_rcp45_bau_2050-2059_09/',\n",
       "    'https://api.cal-adapt.org/api/rstores/fireprob_10y_CanESM2_rcp45_bau_2060-2069_09/',\n",
       "    'https://api.cal-adapt.org/api/rstores/fireprob_10y_CanESM2_rcp45_bau_2070-2079_09/',\n",
       "    'https://api.cal-adapt.org/api/rstores/fireprob_10y_CanESM2_rcp45_bau_2080-2089_09/',\n",
       "    'https://api.cal-adapt.org/api/rstores/fireprob_10y_CanESM2_rcp45_bau_2090-2099_09/'],\n",
       "   'tres': 'decadal-september'},\n",
       "  {'name': 'U.C. Merced Decadal Monthly Wildfire Probability business as usual scenario CanESM2 RCP 4.5 10',\n",
       "   'slug': 'fireprob_10y_CanESM2_rcp45_bau_10',\n",
       "   'url': 'https://api.cal-adapt.org/api/series/fireprob_10y_CanESM2_rcp45_bau_10/',\n",
       "   'begin': '1960-01-01T00:00:00Z',\n",
       "   'end': '2099-12-31T00:00:00Z',\n",
       "   'rasters': ['https://api.cal-adapt.org/api/rstores/fireprob_10y_CanESM2_rcp45_bau_1960-1969_10/',\n",
       "    'https://api.cal-adapt.org/api/rstores/fireprob_10y_CanESM2_rcp45_bau_1970-1979_10/',\n",
       "    'https://api.cal-adapt.org/api/rstores/fireprob_10y_CanESM2_rcp45_bau_1980-1989_10/',\n",
       "    'https://api.cal-adapt.org/api/rstores/fireprob_10y_CanESM2_rcp45_bau_1990-1999_10/',\n",
       "    'https://api.cal-adapt.org/api/rstores/fireprob_10y_CanESM2_rcp45_bau_2000-2009_10/',\n",
       "    'https://api.cal-adapt.org/api/rstores/fireprob_10y_CanESM2_rcp45_bau_2010-2019_10/',\n",
       "    'https://api.cal-adapt.org/api/rstores/fireprob_10y_CanESM2_rcp45_bau_2020-2029_10/',\n",
       "    'https://api.cal-adapt.org/api/rstores/fireprob_10y_CanESM2_rcp45_bau_2030-2039_10/',\n",
       "    'https://api.cal-adapt.org/api/rstores/fireprob_10y_CanESM2_rcp45_bau_2040-2049_10/',\n",
       "    'https://api.cal-adapt.org/api/rstores/fireprob_10y_CanESM2_rcp45_bau_2050-2059_10/',\n",
       "    'https://api.cal-adapt.org/api/rstores/fireprob_10y_CanESM2_rcp45_bau_2060-2069_10/',\n",
       "    'https://api.cal-adapt.org/api/rstores/fireprob_10y_CanESM2_rcp45_bau_2070-2079_10/',\n",
       "    'https://api.cal-adapt.org/api/rstores/fireprob_10y_CanESM2_rcp45_bau_2080-2089_10/',\n",
       "    'https://api.cal-adapt.org/api/rstores/fireprob_10y_CanESM2_rcp45_bau_2090-2099_10/'],\n",
       "   'tres': 'decadal-october'},\n",
       "  {'name': 'U.C. Merced Decadal Monthly Wildfire Probability business as usual scenario CanESM2 RCP 4.5 11',\n",
       "   'slug': 'fireprob_10y_CanESM2_rcp45_bau_11',\n",
       "   'url': 'https://api.cal-adapt.org/api/series/fireprob_10y_CanESM2_rcp45_bau_11/',\n",
       "   'begin': '1960-01-01T00:00:00Z',\n",
       "   'end': '2099-12-31T00:00:00Z',\n",
       "   'rasters': ['https://api.cal-adapt.org/api/rstores/fireprob_10y_CanESM2_rcp45_bau_1960-1969_11/',\n",
       "    'https://api.cal-adapt.org/api/rstores/fireprob_10y_CanESM2_rcp45_bau_1970-1979_11/',\n",
       "    'https://api.cal-adapt.org/api/rstores/fireprob_10y_CanESM2_rcp45_bau_1980-1989_11/',\n",
       "    'https://api.cal-adapt.org/api/rstores/fireprob_10y_CanESM2_rcp45_bau_1990-1999_11/',\n",
       "    'https://api.cal-adapt.org/api/rstores/fireprob_10y_CanESM2_rcp45_bau_2000-2009_11/',\n",
       "    'https://api.cal-adapt.org/api/rstores/fireprob_10y_CanESM2_rcp45_bau_2010-2019_11/',\n",
       "    'https://api.cal-adapt.org/api/rstores/fireprob_10y_CanESM2_rcp45_bau_2020-2029_11/',\n",
       "    'https://api.cal-adapt.org/api/rstores/fireprob_10y_CanESM2_rcp45_bau_2030-2039_11/',\n",
       "    'https://api.cal-adapt.org/api/rstores/fireprob_10y_CanESM2_rcp45_bau_2040-2049_11/',\n",
       "    'https://api.cal-adapt.org/api/rstores/fireprob_10y_CanESM2_rcp45_bau_2050-2059_11/',\n",
       "    'https://api.cal-adapt.org/api/rstores/fireprob_10y_CanESM2_rcp45_bau_2060-2069_11/',\n",
       "    'https://api.cal-adapt.org/api/rstores/fireprob_10y_CanESM2_rcp45_bau_2070-2079_11/',\n",
       "    'https://api.cal-adapt.org/api/rstores/fireprob_10y_CanESM2_rcp45_bau_2080-2089_11/',\n",
       "    'https://api.cal-adapt.org/api/rstores/fireprob_10y_CanESM2_rcp45_bau_2090-2099_11/'],\n",
       "   'tres': 'decadal-november'},\n",
       "  {'name': 'U.C. Merced Decadal Monthly Wildfire Probability business as usual scenario CanESM2 RCP 4.5 12',\n",
       "   'slug': 'fireprob_10y_CanESM2_rcp45_bau_12',\n",
       "   'url': 'https://api.cal-adapt.org/api/series/fireprob_10y_CanESM2_rcp45_bau_12/',\n",
       "   'begin': '1960-01-01T00:00:00Z',\n",
       "   'end': '2099-12-31T00:00:00Z',\n",
       "   'rasters': ['https://api.cal-adapt.org/api/rstores/fireprob_10y_CanESM2_rcp45_bau_1960-1969_12/',\n",
       "    'https://api.cal-adapt.org/api/rstores/fireprob_10y_CanESM2_rcp45_bau_1970-1979_12/',\n",
       "    'https://api.cal-adapt.org/api/rstores/fireprob_10y_CanESM2_rcp45_bau_1980-1989_12/',\n",
       "    'https://api.cal-adapt.org/api/rstores/fireprob_10y_CanESM2_rcp45_bau_1990-1999_12/',\n",
       "    'https://api.cal-adapt.org/api/rstores/fireprob_10y_CanESM2_rcp45_bau_2000-2009_12/',\n",
       "    'https://api.cal-adapt.org/api/rstores/fireprob_10y_CanESM2_rcp45_bau_2010-2019_12/',\n",
       "    'https://api.cal-adapt.org/api/rstores/fireprob_10y_CanESM2_rcp45_bau_2020-2029_12/',\n",
       "    'https://api.cal-adapt.org/api/rstores/fireprob_10y_CanESM2_rcp45_bau_2030-2039_12/',\n",
       "    'https://api.cal-adapt.org/api/rstores/fireprob_10y_CanESM2_rcp45_bau_2040-2049_12/',\n",
       "    'https://api.cal-adapt.org/api/rstores/fireprob_10y_CanESM2_rcp45_bau_2050-2059_12/',\n",
       "    'https://api.cal-adapt.org/api/rstores/fireprob_10y_CanESM2_rcp45_bau_2060-2069_12/',\n",
       "    'https://api.cal-adapt.org/api/rstores/fireprob_10y_CanESM2_rcp45_bau_2070-2079_12/',\n",
       "    'https://api.cal-adapt.org/api/rstores/fireprob_10y_CanESM2_rcp45_bau_2080-2089_12/',\n",
       "    'https://api.cal-adapt.org/api/rstores/fireprob_10y_CanESM2_rcp45_bau_2090-2099_12/'],\n",
       "   'tres': 'decadal-december'}]}"
      ]
     },
     "execution_count": 203,
     "metadata": {},
     "output_type": "execute_result"
    }
   ],
   "source": [
    "json = response.json()\n",
    "json\n"
   ]
  },
  {
   "cell_type": "code",
   "execution_count": 204,
   "metadata": {},
   "outputs": [
    {
     "data": {
      "text/plain": [
       "['https://api.cal-adapt.org/api/rstores/fireprob_10y_CanESM2_rcp45_bau_1960-1969/',\n",
       " 'https://api.cal-adapt.org/api/rstores/fireprob_10y_CanESM2_rcp45_bau_1970-1979/',\n",
       " 'https://api.cal-adapt.org/api/rstores/fireprob_10y_CanESM2_rcp45_bau_1980-1989/',\n",
       " 'https://api.cal-adapt.org/api/rstores/fireprob_10y_CanESM2_rcp45_bau_1990-1999/',\n",
       " 'https://api.cal-adapt.org/api/rstores/fireprob_10y_CanESM2_rcp45_bau_2000-2009/',\n",
       " 'https://api.cal-adapt.org/api/rstores/fireprob_10y_CanESM2_rcp45_bau_2010-2019/',\n",
       " 'https://api.cal-adapt.org/api/rstores/fireprob_10y_CanESM2_rcp45_bau_2020-2029/',\n",
       " 'https://api.cal-adapt.org/api/rstores/fireprob_10y_CanESM2_rcp45_bau_2030-2039/',\n",
       " 'https://api.cal-adapt.org/api/rstores/fireprob_10y_CanESM2_rcp45_bau_2040-2049/',\n",
       " 'https://api.cal-adapt.org/api/rstores/fireprob_10y_CanESM2_rcp45_bau_2050-2059/',\n",
       " 'https://api.cal-adapt.org/api/rstores/fireprob_10y_CanESM2_rcp45_bau_2060-2069/',\n",
       " 'https://api.cal-adapt.org/api/rstores/fireprob_10y_CanESM2_rcp45_bau_2070-2079/',\n",
       " 'https://api.cal-adapt.org/api/rstores/fireprob_10y_CanESM2_rcp45_bau_2080-2089/',\n",
       " 'https://api.cal-adapt.org/api/rstores/fireprob_10y_CanESM2_rcp45_bau_2090-2099/']"
      ]
     },
     "execution_count": 204,
     "metadata": {},
     "output_type": "execute_result"
    }
   ],
   "source": [
    "data_list = json['results'][0]['rasters'] #select bau, just yearly data\n",
    "data_list"
   ]
  },
  {
   "cell_type": "code",
   "execution_count": 206,
   "metadata": {},
   "outputs": [],
   "source": [
    "#user_input_time = arcpy.GetParameterAsText(2)\n",
    "user_input_time = '2050-2059'\n",
    "if user_input_time == '1960-1969':\n",
    "    time_selection = json['results'][0]['rasters'][0]\n",
    "if user_input_time == '1970-1979':\n",
    "    time_selection = json['results'][0]['rasters'][1]\n",
    "if user_input_time == '1980-1989':\n",
    "    time_selection = json['results'][0]['rasters'][2]\n",
    "if user_input_time == '1990-1999':\n",
    "    time_selection = json['results'][0]['rasters'][3]\n",
    "if user_input_time == '2000-2009': \n",
    "    time_selection = json['results'][0]['rasters'][4]\n",
    "if user_input_time == '2010-2019':\n",
    "    time_selection = json['results'][0]['rasters'][5]\n",
    "if user_input_time == '2020-2029':\n",
    "    time_selection = json['results'][0]['rasters'][6]\n",
    "if user_input_time == '2030-2039':\n",
    "    time_selection = json['results'][0]['rasters'][7]\n",
    "if user_input_time == '2040-2049':\n",
    "    time_selection = json['results'][0]['rasters'][8]\n",
    "if user_input_time == '2050-2059':\n",
    "    time_selection = json['results'][0]['rasters'][9]\n",
    "if user_input_time == '2060-2069':\n",
    "    time_selection = json['results'][0]['rasters'][10]\n",
    "if user_input_time == '2070-2079':\n",
    "    time_selection = json['results'][0]['rasters'][11]\n",
    "if user_input_time == '2080-2089':\n",
    "    time_selection = json['results'][0]['rasters'][12]\n",
    "if user_input_time == '2090-2099':\n",
    "    time_selection = json['results'][0]['rasters'][13]\n",
    "\n",
    "time_selection = json['results'][0]['rasters'][0]"
   ]
  },
  {
   "cell_type": "code",
   "execution_count": 207,
   "metadata": {},
   "outputs": [
    {
     "data": {
      "text/plain": [
       "'https://api.cal-adapt.org/media/img/30531/fireprob_10y_CanESM2_rcp45.bau.1960-1969.tif'"
      ]
     },
     "execution_count": 207,
     "metadata": {},
     "output_type": "execute_result"
    }
   ],
   "source": [
    "response = requests.get(time_selection)\n",
    "test = pd.read_json(response.text, typ='series')\n",
    "test['image']"
   ]
  },
  {
   "cell_type": "code",
   "execution_count": 208,
   "metadata": {},
   "outputs": [
    {
     "data": {
      "text/plain": [
       "'fireprob_10y_CanESM2_rcp45_bau'"
      ]
     },
     "execution_count": 208,
     "metadata": {},
     "output_type": "execute_result"
    }
   ],
   "source": [
    "slug"
   ]
  },
  {
   "cell_type": "code",
   "execution_count": 209,
   "metadata": {},
   "outputs": [
    {
     "data": {
      "text/plain": [
       "WindowsPath('v:/Maynard_Mutua/Scratch/fireprob_10y_CanESM2_rcp45_bau_2050-2059.tif')"
      ]
     },
     "execution_count": 209,
     "metadata": {},
     "output_type": "execute_result"
    }
   ],
   "source": [
    "\n",
    "outFileName = (scratch_folder/f'{slug}_{user_input_time}.tif')\n",
    "outFileName"
   ]
  },
  {
   "cell_type": "code",
   "execution_count": 225,
   "metadata": {},
   "outputs": [
    {
     "name": "stdout",
     "output_type": "stream",
     "text": [
      "ds is a <class 'osgeo.gdal.Dataset'> object\n"
     ]
    }
   ],
   "source": [
    "ds = gdal.Open(test['image'])\n",
    "print(f'ds is a {type(ds)} object')\n",
    "band = ds.GetRasterBand(1)\n",
    "arr = band.ReadAsArray()\n",
    "\n",
    "arr_mask_val = np.nanquantile(arr, [ 0.95]) \n",
    "arr_mask = np.where(arr > arr_mask_val, 1, np.nan) #replace 1 with 'arr' if you want to replace with actual value\n",
    "#arr_mask = arr > arr_mask_val \n",
    "\n",
    "[cols, rows] = arr.shape\n",
    "\n",
    "driver = gdal.GetDriverByName(\"GTiff\")\n",
    "\n",
    "outdata = driver.Create(f'v:/Maynard_Mutua/Scratch/{slug}_{user_input_time}_mask.tif', rows, cols, 1, gdal.GDT_Float32)\n",
    "outdata.SetGeoTransform(ds.GetGeoTransform()) #set same geotransform as input\n",
    "outdata.SetProjection(ds.GetProjection()) #set the same projection as input\n",
    "outdata.GetRasterBand(1).WriteArray(arr_mask)\n",
    "outdata.FlushCache() #saves to disk\n",
    "\n",
    "outdata = None\n",
    "band=None\n",
    "ds=None\n",
    "\n",
    "#print(f'arr_1 is a {type(arr_1)} object')\n",
    "\n"
   ]
  },
  {
   "cell_type": "code",
   "execution_count": 211,
   "metadata": {},
   "outputs": [
    {
     "data": {
      "text/plain": [
       "(0.0, 0.12974152, 0.4206419)"
      ]
     },
     "execution_count": 211,
     "metadata": {},
     "output_type": "execute_result"
    }
   ],
   "source": [
    "(np.nanmin(arr),\n",
    " np.nanmean(arr),\n",
    " np.nanmax(arr))  "
   ]
  },
  {
   "cell_type": "code",
   "execution_count": 222,
   "metadata": {},
   "outputs": [
    {
     "data": {
      "text/plain": [
       "array([0.27409448])"
      ]
     },
     "execution_count": 222,
     "metadata": {},
     "output_type": "execute_result"
    }
   ],
   "source": [
    "value = np.nanquantile(arr, [ 0.95])\n",
    "value"
   ]
  },
  {
   "cell_type": "code",
   "execution_count": 219,
   "metadata": {},
   "outputs": [
    {
     "data": {
      "image/png": "[encoded data removed]",
      "text/plain": [
       "<Figure size 640x480 with 1 Axes>"
      ]
     },
     "metadata": {},
     "output_type": "display_data"
    }
   ],
   "source": [
    "plt.imshow(arr);"
   ]
  },
  {
   "cell_type": "code",
   "execution_count": 216,
   "metadata": {},
   "outputs": [
    {
     "data": {
      "text/plain": [
       "dtype('bool')"
      ]
     },
     "execution_count": 216,
     "metadata": {},
     "output_type": "execute_result"
    },
    {
     "data": {
      "image/png": "[encoded data removed]",
      "text/plain": [
       "<Figure size 640x480 with 1 Axes>"
      ]
     },
     "metadata": {},
     "output_type": "display_data"
    }
   ],
   "source": [
    "arr_mask = arr > value\n",
    "plt.imshow(arr_mask);\n"
   ]
  },
  {
   "cell_type": "markdown",
   "metadata": {},
   "source": [
    "#### Sea level rise"
   ]
  },
  {
   "cell_type": "code",
   "execution_count": null,
   "metadata": {},
   "outputs": [],
   "source": [
    "#Code to import sea level rise data"
   ]
  },
  {
   "cell_type": "markdown",
   "metadata": {},
   "source": [
    "#### Extreme heat (if time allows)"
   ]
  },
  {
   "cell_type": "markdown",
   "metadata": {},
   "source": [
    "### Find out which assets are affected by extreme weather events\n",
    "\n",
    "We could find the intersection and create a dataframe with a column for derating and put these in a dashboard showing number of assets affected and severity."
   ]
  },
  {
   "cell_type": "markdown",
   "metadata": {},
   "source": [
    "### Find out which transmission lines and EV chargers might be inaccessible/offline following applicable extreme weather events\n",
    "\n",
    "We could apply the same approach as the Puerto Rico paper and do a special analysis for EV chargers to show how distance to an working charger might be impacted across the different counties."
   ]
  },
  {
   "cell_type": "markdown",
   "metadata": {},
   "source": [
    "### Export shapefiles to be visualized in dashboard"
   ]
  }
 ],
 "metadata": {
  "kernelspec": {
   "display_name": "Python 3 (ipykernel)",
   "language": "python",
   "name": "python3"
  },
  "language_info": {
   "codemirror_mode": {
    "name": "ipython",
    "version": 3
   },
   "file_extension": ".py",
   "mimetype": "text/x-python",
   "name": "python",
   "nbconvert_exporter": "python",
   "pygments_lexer": "ipython3",
   "version": "3.11.8"
  }
 },
 "nbformat": 4,
 "nbformat_minor": 2
}
